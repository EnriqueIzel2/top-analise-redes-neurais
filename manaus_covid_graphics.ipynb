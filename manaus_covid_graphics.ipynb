{
 "cells": [
  {
   "cell_type": "code",
   "execution_count": 1,
   "metadata": {},
   "outputs": [],
   "source": [
    "import pandas as pd\n",
    "dados = pd.read_csv(\"Manaus-clean.csv\", encoding ='ISO-8859-1', sep = \";\", low_memory = False )\n",
    "#dados.columns\n",
    "# low_memory = False só para tirar o aviso gerado ao ler diferentes dtypes em uma coluna de um arquivo.\n",
    "# mas talvez seja necessário especificar os tipos de dados de \"_srag\" e \"_evolucao\"."
   ]
  },
  {
   "cell_type": "markdown",
   "metadata": {},
   "source": [
    "## Visualização de Dados\n",
    "Para a visualização de dados, apresentem gráficos que denotem as informações a seguir. Explicitem\n",
    "o que denotam os eixos x e y claramente, escolham um esquema de cores compatível com a escrita\n",
    "técnico-científica e utilizem legendas ao incluí-los no texto.\n",
    "\n",
    "**1. Construa um histograma denotando a quantidade de casos nos 10 bairros em que houve mais casos registrados. Inclua todos os bairros remanescentes em uma categoria denominada “Outros.” Denote as informações de maneira percentual;**"
   ]
  },
  {
   "cell_type": "code",
   "execution_count": null,
   "metadata": {},
   "outputs": [],
   "source": []
  },
  {
   "cell_type": "markdown",
   "metadata": {},
   "source": [
    "**2. Denote, por sexo, o boxplot da idade dos casos confirmados. Há outliers?**"
   ]
  },
  {
   "cell_type": "code",
   "execution_count": null,
   "metadata": {},
   "outputs": [],
   "source": []
  },
  {
   "cell_type": "markdown",
   "metadata": {},
   "source": [
    "**3. Denote em um gráfico de barras o número de novos casos por dia, considerando os 10 últimos dias existentes na base de dados;**"
   ]
  },
  {
   "cell_type": "code",
   "execution_count": null,
   "metadata": {},
   "outputs": [],
   "source": []
  },
  {
   "cell_type": "markdown",
   "metadata": {},
   "source": [
    "**4. Repita o gráfico anterior considerando o número de casos recuperado;**"
   ]
  },
  {
   "cell_type": "code",
   "execution_count": null,
   "metadata": {},
   "outputs": [],
   "source": []
  },
  {
   "cell_type": "markdown",
   "metadata": {},
   "source": [
    "**5. Construa um histograma que denote a quantidade percentual de casos por grupo etário, considerando que cada grupo contempla uma década (0 a 10 anos, 11 a 20 anos, etc.);**"
   ]
  },
  {
   "cell_type": "code",
   "execution_count": null,
   "metadata": {},
   "outputs": [],
   "source": []
  },
  {
   "cell_type": "markdown",
   "metadata": {},
   "source": [
    "**6. Elabore um gráfico que mostra o cumulativo de casos notificados ao longo do tempo;**"
   ]
  },
  {
   "cell_type": "code",
   "execution_count": null,
   "metadata": {},
   "outputs": [],
   "source": []
  },
  {
   "cell_type": "markdown",
   "metadata": {},
   "source": [
    "**7. Faça um gráfico do tipo scatterplot que denote a idade versus o número total de casos registrado para aquela idade. Aproveite o processamento efetuado para o cálculo da correlação. É possível observar alguma tendência?**"
   ]
  },
  {
   "cell_type": "code",
   "execution_count": null,
   "metadata": {},
   "outputs": [],
   "source": []
  },
  {
   "cell_type": "markdown",
   "metadata": {},
   "source": [
    "## Tipos de Tarefas\n",
    "Recapitulem que dados fornecem experiência sobre um problema. No caso em questão, sugira:\n",
    "\n",
    "**1. Uma tarefa de classificação mediante Aprendizado Supervisionado que poderia ser feita com\n",
    "esta base de dados. Qual seria o atributo-alvo? Quais métricas de desempenho poderiam ser\n",
    "aplicadas? Que tipo de validação seria apropriado?**\n",
    "\n",
    "\n",
    "\n",
    "**2. Uma tarefa de regressão mediante Aprendizado Supervisionado que poderia ser feita com esta base de dados. Qual seria o atributo-alvo? Quais atributos preditores a equipe considera relevantes para o cenário?**\n",
    "\n",
    "\n",
    "\n",
    "**3. Bônus: Qual tarefa de Aprendizado Não-Supervisionado poderia ser concebida neste contexto?**"
   ]
  }
 ],
 "metadata": {
  "kernelspec": {
   "display_name": "Python 3",
   "language": "python",
   "name": "python3"
  },
  "language_info": {
   "codemirror_mode": {
    "name": "ipython",
    "version": 3
   },
   "file_extension": ".py",
   "mimetype": "text/x-python",
   "name": "python",
   "nbconvert_exporter": "python",
   "pygments_lexer": "ipython3",
   "version": "3.7.6"
  }
 },
 "nbformat": 4,
 "nbformat_minor": 4
}
