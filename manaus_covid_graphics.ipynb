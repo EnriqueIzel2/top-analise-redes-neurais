{
 "cells": [
  {
   "cell_type": "code",
   "execution_count": 3,
   "metadata": {},
   "outputs": [],
   "source": [
    "import pandas as pd\n",
    "import numpy as np\n",
    "import matplotlib.pyplot as plt\n",
    "import seaborn as sns\n",
    "dados = pd.read_csv(\"Manaus-clean.csv\", sep = \",\", low_memory = False )\n",
    "#dados.columns\n",
    "# low_memory = False só para tirar o aviso gerado ao ler diferentes dtypes em uma coluna de um arquivo.\n",
    "# mas talvez seja necessário especificar os tipos de dados de \"_srag\" e \"_evolucao\"."
   ]
  },
  {
   "cell_type": "code",
   "execution_count": 2,
   "metadata": {},
   "outputs": [
    {
     "data": {
      "text/html": [
       "<div>\n",
       "<style scoped>\n",
       "    .dataframe tbody tr th:only-of-type {\n",
       "        vertical-align: middle;\n",
       "    }\n",
       "\n",
       "    .dataframe tbody tr th {\n",
       "        vertical-align: top;\n",
       "    }\n",
       "\n",
       "    .dataframe thead th {\n",
       "        text-align: right;\n",
       "    }\n",
       "</style>\n",
       "<table border=\"1\" class=\"dataframe\">\n",
       "  <thead>\n",
       "    <tr style=\"text-align: right;\">\n",
       "      <th></th>\n",
       "      <th>_idade</th>\n",
       "      <th>_faixa etária</th>\n",
       "      <th>_sexo</th>\n",
       "      <th>_bairro</th>\n",
       "      <th>_classificacao</th>\n",
       "      <th>_conclusao</th>\n",
       "      <th>_dt_notificacao</th>\n",
       "      <th>_tipo_teste</th>\n",
       "      <th>_se_notificacao</th>\n",
       "      <th>_distrito</th>\n",
       "      <th>_bairro_mapa</th>\n",
       "    </tr>\n",
       "  </thead>\n",
       "  <tbody>\n",
       "    <tr>\n",
       "      <th>0</th>\n",
       "      <td>44.0</td>\n",
       "      <td>40a - 49a</td>\n",
       "      <td>F</td>\n",
       "      <td>SAO GERALDO</td>\n",
       "      <td>Confirmado</td>\n",
       "      <td>Recuperado</td>\n",
       "      <td>2020-01-30</td>\n",
       "      <td>TESTE RÁPIDO - ANTÍGENO</td>\n",
       "      <td>5.0</td>\n",
       "      <td>SUL</td>\n",
       "      <td>SÃO GERALDO</td>\n",
       "    </tr>\n",
       "    <tr>\n",
       "      <th>1</th>\n",
       "      <td>44.0</td>\n",
       "      <td>40a - 49a</td>\n",
       "      <td>M</td>\n",
       "      <td>PONTA NEGRA</td>\n",
       "      <td>Confirmado</td>\n",
       "      <td>Recuperado</td>\n",
       "      <td>2020-02-16</td>\n",
       "      <td>TESTE RÁPIDO - ANTICORPO</td>\n",
       "      <td>8.0</td>\n",
       "      <td>OESTE</td>\n",
       "      <td>PONTA NEGRA</td>\n",
       "    </tr>\n",
       "    <tr>\n",
       "      <th>2</th>\n",
       "      <td>12.0</td>\n",
       "      <td>10a - 14a</td>\n",
       "      <td>F</td>\n",
       "      <td>MAUAZINHO</td>\n",
       "      <td>Confirmado</td>\n",
       "      <td>Recuperado</td>\n",
       "      <td>2020-02-23</td>\n",
       "      <td>DESCONHECIDO</td>\n",
       "      <td>9.0</td>\n",
       "      <td>LESTE</td>\n",
       "      <td>MAUAZINHO</td>\n",
       "    </tr>\n",
       "    <tr>\n",
       "      <th>3</th>\n",
       "      <td>43.0</td>\n",
       "      <td>40a - 49a</td>\n",
       "      <td>F</td>\n",
       "      <td>DOM PEDRO</td>\n",
       "      <td>Confirmado</td>\n",
       "      <td>Recuperado</td>\n",
       "      <td>2020-03-09</td>\n",
       "      <td>RT-PCR</td>\n",
       "      <td>11.0</td>\n",
       "      <td>OESTE</td>\n",
       "      <td>DOM PEDRO</td>\n",
       "    </tr>\n",
       "    <tr>\n",
       "      <th>4</th>\n",
       "      <td>46.0</td>\n",
       "      <td>40a - 49a</td>\n",
       "      <td>F</td>\n",
       "      <td>CIDADE NOVA</td>\n",
       "      <td>Confirmado</td>\n",
       "      <td>Recuperado</td>\n",
       "      <td>2020-03-11</td>\n",
       "      <td>DESCONHECIDO</td>\n",
       "      <td>11.0</td>\n",
       "      <td>NORTE</td>\n",
       "      <td>CIDADE NOVA</td>\n",
       "    </tr>\n",
       "  </tbody>\n",
       "</table>\n",
       "</div>"
      ],
      "text/plain": [
       "   _idade _faixa etária _sexo      _bairro _classificacao  _conclusao  \\\n",
       "0    44.0     40a - 49a     F  SAO GERALDO     Confirmado  Recuperado   \n",
       "1    44.0     40a - 49a     M  PONTA NEGRA     Confirmado  Recuperado   \n",
       "2    12.0     10a - 14a     F    MAUAZINHO     Confirmado  Recuperado   \n",
       "3    43.0     40a - 49a     F    DOM PEDRO     Confirmado  Recuperado   \n",
       "4    46.0     40a - 49a     F  CIDADE NOVA     Confirmado  Recuperado   \n",
       "\n",
       "  _dt_notificacao               _tipo_teste  _se_notificacao _distrito  \\\n",
       "0      2020-01-30   TESTE RÁPIDO - ANTÍGENO              5.0       SUL   \n",
       "1      2020-02-16  TESTE RÁPIDO - ANTICORPO              8.0     OESTE   \n",
       "2      2020-02-23              DESCONHECIDO              9.0     LESTE   \n",
       "3      2020-03-09                    RT-PCR             11.0     OESTE   \n",
       "4      2020-03-11              DESCONHECIDO             11.0     NORTE   \n",
       "\n",
       "  _bairro_mapa  \n",
       "0  SÃO GERALDO  \n",
       "1  PONTA NEGRA  \n",
       "2    MAUAZINHO  \n",
       "3    DOM PEDRO  \n",
       "4  CIDADE NOVA  "
      ]
     },
     "execution_count": 2,
     "metadata": {},
     "output_type": "execute_result"
    }
   ],
   "source": [
    "dados.head()"
   ]
  },
  {
   "cell_type": "markdown",
   "metadata": {},
   "source": [
    "## Visualização de Dados\n",
    "Para a visualização de dados, apresentem gráficos que denotem as informações a seguir. Explicitem\n",
    "o que denotam os eixos x e y claramente, escolham um esquema de cores compatível com a escrita\n",
    "técnico-científica e utilizem legendas ao incluí-los no texto.\n",
    "\n",
    "**1. Construa um histograma denotando a quantidade de casos nos 10 bairros em que houve mais casos registrados. Inclua todos os bairros remanescentes em uma categoria denominada “Outros.” Denote as informações de maneira percentual;**"
   ]
  },
  {
   "cell_type": "code",
   "execution_count": null,
   "metadata": {},
   "outputs": [],
   "source": []
  },
  {
   "cell_type": "markdown",
   "metadata": {},
   "source": [
    "**2. Denote, por sexo, o boxplot da idade dos casos confirmados. Há outliers?**"
   ]
  },
  {
   "cell_type": "code",
   "execution_count": 109,
   "metadata": {},
   "outputs": [
    {
     "data": {
      "image/png": "[encoded data removed]",
      "text/plain": [
       "<Figure size 432x288 with 1 Axes>"
      ]
     },
     "metadata": {},
     "output_type": "display_data"
    }
   ],
   "source": [
    "data = dados.groupby(['_idade', '_sexo']).size().reset_index(name='casos')\n",
    "\n",
    "sns.set(style=\"whitegrid\")\n",
    "plot = sns.boxplot(x='_idade', y=\"_sexo\", data=data, color='white')\n",
    "plt.setp(plot.artists, edgecolor = 'black', facecolor='white')\n",
    "plt.setp(plot.lines, color='black')\n",
    "plt.show()"
   ]
  },
  {
   "cell_type": "markdown",
   "metadata": {},
   "source": [
    "Resposta: Não há outliers"
   ]
  },
  {
   "cell_type": "markdown",
   "metadata": {},
   "source": [
    "**3. Denote em um gráfico de barras o número de novos casos por dia, considerando os 10 últimos dias existentes na base de dados;**"
   ]
  },
  {
   "cell_type": "code",
   "execution_count": 3,
   "metadata": {},
   "outputs": [
    {
     "data": {
      "image/png": "[encoded data removed]",
      "text/plain": [
       "<Figure size 1152x288 with 1 Axes>"
      ]
     },
     "metadata": {},
     "output_type": "display_data"
    }
   ],
   "source": [
    "z = dados['_dt_notificacao'].value_counts()\n",
    "t = dados[\"_dt_notificacao\"].value_counts().index.values\n",
    "df = pd.DataFrame({'Data':t, 'Novos casos':z})\n",
    "df = df.sort_values('Data',ascending=False)\n",
    "\n",
    "b = df[\"Data\"][0:10]\n",
    "c = df[\"Novos casos\"][0:10]\n",
    "\n",
    "sns.set(style=\"whitegrid\")\n",
    "\n",
    "ax = sns.barplot(x=b, y=c)\n",
    "fig = plt.gcf()\n",
    "fig.set_size_inches(16, 4)\n",
    "ax.set(xlabel='Dias', ylabel='Casos')\n",
    "plt.show()"
   ]
  },
  {
   "cell_type": "markdown",
   "metadata": {},
   "source": [
    "**4. Repita o gráfico anterior considerando o número de casos recuperado;**"
   ]
  },
  {
   "cell_type": "code",
   "execution_count": 4,
   "metadata": {},
   "outputs": [
    {
     "data": {
      "image/png": "[encoded data removed]",
      "text/plain": [
       "<Figure size 1152x288 with 1 Axes>"
      ]
     },
     "metadata": {},
     "output_type": "display_data"
    }
   ],
   "source": [
    "cr = dados.query(\"_conclusao == 'Recuperado'\")\n",
    "\n",
    "z = cr[\"_dt_notificacao\"].value_counts().index.values\n",
    "t = cr['_dt_notificacao'].value_counts()\n",
    "df = pd.DataFrame({'Data':z, 'Novos casos':t})\n",
    "df = df.sort_values('Data',ascending=False)\n",
    "\n",
    "sns.set(style=\"whitegrid\")\n",
    "\n",
    "b = df[\"Data\"][0:10]\n",
    "c = df[\"Novos casos\"][0:10]\n",
    "ax = sns.barplot(x=b, y=c)\n",
    "fig = plt.gcf()\n",
    "fig.set_size_inches(16, 4)\n",
    "ax.set(xlabel='Bairros', ylabel='Casos')\n",
    "plt.show()"
   ]
  },
  {
   "cell_type": "markdown",
   "metadata": {},
   "source": [
    "**5. Construa um histograma que denote a quantidade percentual de casos por grupo etário, considerando que cada grupo contempla uma década (0 a 10 anos, 11 a 20 anos, etc.);**"
   ]
  },
  {
   "cell_type": "code",
   "execution_count": null,
   "metadata": {},
   "outputs": [],
   "source": []
  },
  {
   "cell_type": "markdown",
   "metadata": {},
   "source": [
    "**6. Elabore um gráfico que mostra o cumulativo de casos notificados ao longo do tempo;**"
   ]
  },
  {
   "cell_type": "code",
   "execution_count": null,
   "metadata": {},
   "outputs": [],
   "source": []
  },
  {
   "cell_type": "markdown",
   "metadata": {},
   "source": [
    "**7. Faça um gráfico do tipo scatterplot que denote a idade versus o número total de casos registrado para aquela idade. Aproveite o processamento efetuado para o cálculo da correlação. É possível observar alguma tendência?**"
   ]
  },
  {
   "cell_type": "code",
   "execution_count": null,
   "metadata": {},
   "outputs": [],
   "source": []
  },
  {
   "cell_type": "markdown",
   "metadata": {},
   "source": [
    "## Tipos de Tarefas\n",
    "Recapitulem que dados fornecem experiência sobre um problema. No caso em questão, sugira:\n",
    "\n",
    "**1. Uma tarefa de classificação mediante Aprendizado Supervisionado que poderia ser feita com\n",
    "esta base de dados. Qual seria o atributo-alvo? Quais métricas de desempenho poderiam ser\n",
    "aplicadas? Que tipo de validação seria apropriado?**\n",
    "\n",
    "\n",
    "\n",
    "**2. Uma tarefa de regressão mediante Aprendizado Supervisionado que poderia ser feita com esta base de dados. Qual seria o atributo-alvo? Quais atributos preditores a equipe considera relevantes para o cenário?**\n",
    "\n",
    "\n",
    "\n",
    "**3. Bônus: Qual tarefa de Aprendizado Não-Supervisionado poderia ser concebida neste contexto?**"
   ]
  }
 ],
 "metadata": {
  "kernelspec": {
   "display_name": "Python 3",
   "language": "python",
   "name": "python3"
  },
  "language_info": {
   "codemirror_mode": {
    "name": "ipython",
    "version": 3
   },
   "file_extension": ".py",
   "mimetype": "text/x-python",
   "name": "python",
   "nbconvert_exporter": "python",
   "pygments_lexer": "ipython3",
   "version": "3.8.3"
  }
 },
 "nbformat": 4,
 "nbformat_minor": 4
}
