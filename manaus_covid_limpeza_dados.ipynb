{
 "cells": [
  {
   "cell_type": "code",
   "execution_count": 1,
   "metadata": {},
   "outputs": [],
   "source": [
    "import pandas as pd\n",
    "from scipy.stats import pearsonr\n",
    "from matplotlib import pyplot\n",
    "import scipy.stats\n",
    "dados = pd.read_csv(\"Manaus.csv\", encoding ='ISO-8859-1', sep = \";\", low_memory = False )\n",
    "#dados.columns\n",
    "# low_memory = False só para tirar o aviso gerado ao ler diferentes dtypes em uma coluna de um arquivo.\n",
    "# mas talvez seja necessário especificar os tipos de dados de \"_srag\" e \"_evolucao\"."
   ]
  },
  {
   "cell_type": "code",
   "execution_count": 2,
   "metadata": {},
   "outputs": [
    {
     "name": "stdout",
     "output_type": "stream",
     "text": [
      "<class 'pandas.core.frame.DataFrame'>\n",
      "RangeIndex: 108351 entries, 0 to 108350\n",
      "Data columns (total 36 columns):\n",
      " #   Column                Non-Null Count   Dtype  \n",
      "---  ------                --------------   -----  \n",
      " 0   _idade                108230 non-null  float64\n",
      " 1   _faixa etária         108351 non-null  object \n",
      " 2   _sexo                 107551 non-null  object \n",
      " 3   _bairro               106223 non-null  object \n",
      " 4   _classificacao        108351 non-null  object \n",
      " 5   _comorb_renal         94992 non-null   object \n",
      " 6   _comorb_diabetes      95646 non-null   object \n",
      " 7   _comorb_imuno         94859 non-null   object \n",
      " 8   _comorb_cardio        95698 non-null   object \n",
      " 9   _conclusao            64812 non-null   object \n",
      " 10  _dt_notificacao       108340 non-null  object \n",
      " 11  _taxa                 102551 non-null  object \n",
      " 12  _dt_evolucao          39685 non-null   object \n",
      " 13  _raca                 83920 non-null   object \n",
      " 14  _dt_sintomas          104710 non-null  object \n",
      " 15  _criterio             8182 non-null    object \n",
      " 16  _tipo_teste           72500 non-null   object \n",
      " 17  _sintoma_garganta     98279 non-null   object \n",
      " 18  _sintoma_dispneia     99064 non-null   object \n",
      " 19  _sintoma_febre        99189 non-null   object \n",
      " 20  _sintoma_tosse        99132 non-null   object \n",
      " 21  _sintoma_outros       99133 non-null   object \n",
      " 22  _etnia                35 non-null      object \n",
      " 23  _profiss_saude        90083 non-null   object \n",
      " 24  _srag                 9016 non-null    object \n",
      " 25  _se_notificacao       108340 non-null  float64\n",
      " 26  _distrito             102551 non-null  object \n",
      " 27  _bairro_mapa          102551 non-null  object \n",
      " 28  _comorb_respiratoria  95003 non-null   object \n",
      " 29  _comorb_cromossomica  94890 non-null   object \n",
      " 30  _comorb_hepatica      3296 non-null    object \n",
      " 31  _comorb_neurologica   3373 non-null    object \n",
      " 32  _comorb_hemato        3341 non-null    object \n",
      " 33  _comorb_obessidade    3250 non-null    object \n",
      " 34  _origem               108351 non-null  object \n",
      " 35  _evolução             12462 non-null   object \n",
      "dtypes: float64(2), object(34)\n",
      "memory usage: 29.8+ MB\n"
     ]
    }
   ],
   "source": [
    "dados.info()"
   ]
  },
  {
   "cell_type": "code",
   "execution_count": 3,
   "metadata": {},
   "outputs": [
    {
     "data": {
      "text/plain": [
       "108351"
      ]
     },
     "execution_count": 3,
     "metadata": {},
     "output_type": "execute_result"
    }
   ],
   "source": [
    "len(dados) "
   ]
  },
  {
   "cell_type": "markdown",
   "metadata": {},
   "source": [
    "### Considerar apenas os casos confirmados, excluindo todos os demais registros distintos."
   ]
  },
  {
   "cell_type": "code",
   "execution_count": 4,
   "metadata": {},
   "outputs": [
    {
     "data": {
      "text/plain": [
       "array(['Confirmado', 'Descartado', 'Em análise'], dtype=object)"
      ]
     },
     "execution_count": 4,
     "metadata": {},
     "output_type": "execute_result"
    }
   ],
   "source": [
    "dados._classificacao.unique()"
   ]
  },
  {
   "cell_type": "markdown",
   "metadata": {},
   "source": [
    "### Selecionando somente casos confirmados"
   ]
  },
  {
   "cell_type": "code",
   "execution_count": 5,
   "metadata": {},
   "outputs": [],
   "source": [
    "casos_confirmados = dados.query(\"_classificacao == 'Confirmado'\")"
   ]
  },
  {
   "cell_type": "markdown",
   "metadata": {},
   "source": [
    "### 1. Quantos atributos descrevem cada exemplo? Quais são eles?"
   ]
  },
  {
   "cell_type": "code",
   "execution_count": 6,
   "metadata": {},
   "outputs": [
    {
     "data": {
      "text/plain": [
       "Index(['_idade', '_faixa etária', '_sexo', '_bairro', '_classificacao',\n",
       "       '_comorb_renal', '_comorb_diabetes', '_comorb_imuno', '_comorb_cardio',\n",
       "       '_conclusao', '_dt_notificacao', '_taxa', '_dt_evolucao', '_raca',\n",
       "       '_dt_sintomas', '_criterio', '_tipo_teste', '_sintoma_garganta',\n",
       "       '_sintoma_dispneia', '_sintoma_febre', '_sintoma_tosse',\n",
       "       '_sintoma_outros', '_etnia', '_profiss_saude', '_srag',\n",
       "       '_se_notificacao', '_distrito', '_bairro_mapa', '_comorb_respiratoria',\n",
       "       '_comorb_cromossomica', '_comorb_hepatica', '_comorb_neurologica',\n",
       "       '_comorb_hemato', '_comorb_obessidade', '_origem', '_evolução'],\n",
       "      dtype='object')"
      ]
     },
     "execution_count": 6,
     "metadata": {},
     "output_type": "execute_result"
    }
   ],
   "source": [
    "casos_confirmados.columns"
   ]
  },
  {
   "cell_type": "markdown",
   "metadata": {},
   "source": [
    "- 36 atributos. "
   ]
  },
  {
   "cell_type": "markdown",
   "metadata": {},
   "source": [
    "### 2. Quantos casos confirmados há em Manaus, cumulativamente?"
   ]
  },
  {
   "cell_type": "code",
   "execution_count": 7,
   "metadata": {},
   "outputs": [
    {
     "data": {
      "text/plain": [
       "36947"
      ]
     },
     "execution_count": 7,
     "metadata": {},
     "output_type": "execute_result"
    }
   ],
   "source": [
    "len(casos_confirmados)"
   ]
  },
  {
   "cell_type": "markdown",
   "metadata": {},
   "source": [
    "### 3. A qual período de tempo a base de dados se refere, isto é, qual o registro mais antigo e qual o mais recente? Leve em conta a data de notificação."
   ]
  },
  {
   "cell_type": "code",
   "execution_count": 8,
   "metadata": {},
   "outputs": [
    {
     "name": "stdout",
     "output_type": "stream",
     "text": [
      "Primerio caso 107318   2020-01-30\n",
      "Name: _dt_notificacao, dtype: datetime64[ns]\n",
      "Ultimo caso 66372   2020-08-06\n",
      "Name: _dt_notificacao, dtype: datetime64[ns]\n"
     ]
    }
   ],
   "source": [
    "#precisa tratar data\n",
    "casos_confirmados = pd.DataFrame(casos_confirmados)\n",
    "casos_confirmados[\"_dt_notificacao\"] = pd.to_datetime(casos_confirmados[\"_dt_notificacao\"],format=\"%d/%m/%Y\")\n",
    "casos_confirmados = casos_confirmados.sort_values(by=\"_dt_notificacao\")\n",
    "casos_confirmados = casos_confirmados.dropna(subset=[\"_dt_notificacao\"])\n",
    "\n",
    "primeiro_caso = casos_confirmados[\"_dt_notificacao\"].head(1)\n",
    "ultimo_caso = casos_confirmados[\"_dt_notificacao\"].tail(1) \n",
    "\n",
    "print(\"Primerio caso\", primeiro_caso)\n",
    "print(\"Ultimo caso\", ultimo_caso)"
   ]
  },
  {
   "cell_type": "markdown",
   "metadata": {},
   "source": [
    "Resposta: Desde 30 de janeiro até 6 de agosto de 2020."
   ]
  },
  {
   "cell_type": "markdown",
   "metadata": {},
   "source": [
    "### Vamos excluir todos os atributos relativos às comorbidades, sintomas, etnia, profissão, outras datas que não a de notificação, origem e outros que não estiverem envolvidos no contexto do trabalho solicitado. Estes atributos serão considerados irrelevantes para fins de simplificação. Exclua todas as linhas em que houver dados faltantes para os atributos remanescentes."
   ]
  },
  {
   "cell_type": "code",
   "execution_count": 9,
   "metadata": {},
   "outputs": [
    {
     "data": {
      "text/plain": [
       "Index(['_idade', '_faixa etária', '_sexo', '_classificacao', '_conclusao',\n",
       "       '_dt_notificacao', '_tipo_teste', '_distrito', '_bairro_mapa'],\n",
       "      dtype='object')"
      ]
     },
     "execution_count": 9,
     "metadata": {},
     "output_type": "execute_result"
    }
   ],
   "source": [
    "dados_copia = casos_confirmados.drop(columns=['_comorb_renal', '_comorb_diabetes', '_comorb_imuno',\n",
    "                                              '_comorb_cardio', '_comorb_cromossomica', '_comorb_hepatica',\n",
    "                                              '_comorb_neurologica','_comorb_hemato', '_comorb_obessidade',\n",
    "                                              '_etnia', '_sintoma_garganta', '_sintoma_dispneia', '_sintoma_febre',\n",
    "                                              '_sintoma_tosse', '_sintoma_outros', '_dt_evolucao', '_dt_sintomas',\n",
    "                                              '_profiss_saude', '_origem', '_comorb_respiratoria', '_taxa',\n",
    "                                              '_criterio','_raca', '_srag', '_evolução', '_bairro', '_se_notificacao'])\n",
    "dados_copia.columns"
   ]
  },
  {
   "cell_type": "code",
   "execution_count": 10,
   "metadata": {},
   "outputs": [
    {
     "data": {
      "text/plain": [
       "_idade                53\n",
       "_faixa etária          0\n",
       "_sexo                162\n",
       "_classificacao         0\n",
       "_conclusao         23563\n",
       "_dt_notificacao        0\n",
       "_tipo_teste         8103\n",
       "_distrito           1794\n",
       "_bairro_mapa        1794\n",
       "dtype: int64"
      ]
     },
     "execution_count": 10,
     "metadata": {},
     "output_type": "execute_result"
    }
   ],
   "source": [
    "dados_copia.isnull().sum()"
   ]
  },
  {
   "cell_type": "code",
   "execution_count": 11,
   "metadata": {},
   "outputs": [],
   "source": [
    "# ver o que é se_notificacao (excluir caso não precise)\n",
    "#dados_copia = dados_copia.sort_values(by=\"_se_notificacao\")\n",
    "#dados_copia._se_notificacao"
   ]
  },
  {
   "cell_type": "markdown",
   "metadata": {},
   "source": [
    "### Alteração dos dados nulos da coluna tipo_teste para desconhecido como forma de evitar perda de dados"
   ]
  },
  {
   "cell_type": "code",
   "execution_count": 12,
   "metadata": {},
   "outputs": [],
   "source": [
    "dados_copia.loc[dados_copia['_tipo_teste'].isnull(), ['_tipo_teste']] = 'DESCONHECIDO'"
   ]
  },
  {
   "cell_type": "markdown",
   "metadata": {},
   "source": [
    "### Removendo linhas e colunas nulas"
   ]
  },
  {
   "cell_type": "code",
   "execution_count": 13,
   "metadata": {},
   "outputs": [],
   "source": [
    "#excluindo dados nulos\n",
    "dados_copia = dados_copia.dropna()"
   ]
  },
  {
   "cell_type": "markdown",
   "metadata": {},
   "source": [
    "### Convertendo os dados da coluna _idade para tipo inteiro para facilitar uso dos dados"
   ]
  },
  {
   "cell_type": "code",
   "execution_count": 14,
   "metadata": {},
   "outputs": [],
   "source": [
    "# Para ser melhor de trabalhos com os dados de idade, os converti do tipo float para tipo int.\n",
    "convert_dict = {'_idade': int} \n",
    "dados_copia = dados_copia.astype(convert_dict)"
   ]
  },
  {
   "cell_type": "markdown",
   "metadata": {},
   "source": [
    "### Remoção de linhas com idade maior que 100"
   ]
  },
  {
   "cell_type": "code",
   "execution_count": 15,
   "metadata": {},
   "outputs": [
    {
     "data": {
      "text/html": [
       "<div>\n",
       "<style scoped>\n",
       "    .dataframe tbody tr th:only-of-type {\n",
       "        vertical-align: middle;\n",
       "    }\n",
       "\n",
       "    .dataframe tbody tr th {\n",
       "        vertical-align: top;\n",
       "    }\n",
       "\n",
       "    .dataframe thead th {\n",
       "        text-align: right;\n",
       "    }\n",
       "</style>\n",
       "<table border=\"1\" class=\"dataframe\">\n",
       "  <thead>\n",
       "    <tr style=\"text-align: right;\">\n",
       "      <th></th>\n",
       "      <th>_idade</th>\n",
       "      <th>_faixa etária</th>\n",
       "      <th>_sexo</th>\n",
       "      <th>_classificacao</th>\n",
       "      <th>_conclusao</th>\n",
       "      <th>_dt_notificacao</th>\n",
       "      <th>_tipo_teste</th>\n",
       "      <th>_distrito</th>\n",
       "      <th>_bairro_mapa</th>\n",
       "    </tr>\n",
       "  </thead>\n",
       "  <tbody>\n",
       "    <tr>\n",
       "      <th>107318</th>\n",
       "      <td>44</td>\n",
       "      <td>40a - 49a</td>\n",
       "      <td>F</td>\n",
       "      <td>Confirmado</td>\n",
       "      <td>Recuperado</td>\n",
       "      <td>2020-01-30</td>\n",
       "      <td>TESTE RÁPIDO - ANTÍGENO</td>\n",
       "      <td>SUL</td>\n",
       "      <td>SÃO GERALDO</td>\n",
       "    </tr>\n",
       "    <tr>\n",
       "      <th>77211</th>\n",
       "      <td>44</td>\n",
       "      <td>40a - 49a</td>\n",
       "      <td>M</td>\n",
       "      <td>Confirmado</td>\n",
       "      <td>Recuperado</td>\n",
       "      <td>2020-02-16</td>\n",
       "      <td>TESTE RÁPIDO - ANTICORPO</td>\n",
       "      <td>OESTE</td>\n",
       "      <td>PONTA NEGRA</td>\n",
       "    </tr>\n",
       "    <tr>\n",
       "      <th>99336</th>\n",
       "      <td>12</td>\n",
       "      <td>10a - 14a</td>\n",
       "      <td>F</td>\n",
       "      <td>Confirmado</td>\n",
       "      <td>Recuperado</td>\n",
       "      <td>2020-02-23</td>\n",
       "      <td>DESCONHECIDO</td>\n",
       "      <td>LESTE</td>\n",
       "      <td>MAUAZINHO</td>\n",
       "    </tr>\n",
       "    <tr>\n",
       "      <th>89016</th>\n",
       "      <td>43</td>\n",
       "      <td>40a - 49a</td>\n",
       "      <td>F</td>\n",
       "      <td>Confirmado</td>\n",
       "      <td>Recuperado</td>\n",
       "      <td>2020-03-09</td>\n",
       "      <td>RT-PCR</td>\n",
       "      <td>OESTE</td>\n",
       "      <td>DOM PEDRO</td>\n",
       "    </tr>\n",
       "    <tr>\n",
       "      <th>108094</th>\n",
       "      <td>46</td>\n",
       "      <td>40a - 49a</td>\n",
       "      <td>F</td>\n",
       "      <td>Confirmado</td>\n",
       "      <td>Recuperado</td>\n",
       "      <td>2020-03-11</td>\n",
       "      <td>DESCONHECIDO</td>\n",
       "      <td>NORTE</td>\n",
       "      <td>CIDADE NOVA</td>\n",
       "    </tr>\n",
       "    <tr>\n",
       "      <th>...</th>\n",
       "      <td>...</td>\n",
       "      <td>...</td>\n",
       "      <td>...</td>\n",
       "      <td>...</td>\n",
       "      <td>...</td>\n",
       "      <td>...</td>\n",
       "      <td>...</td>\n",
       "      <td>...</td>\n",
       "      <td>...</td>\n",
       "    </tr>\n",
       "    <tr>\n",
       "      <th>106766</th>\n",
       "      <td>69</td>\n",
       "      <td>60a - 69a</td>\n",
       "      <td>M</td>\n",
       "      <td>Confirmado</td>\n",
       "      <td>Óbito</td>\n",
       "      <td>2020-07-28</td>\n",
       "      <td>DESCONHECIDO</td>\n",
       "      <td>OESTE</td>\n",
       "      <td>ALVORADA</td>\n",
       "    </tr>\n",
       "    <tr>\n",
       "      <th>102442</th>\n",
       "      <td>77</td>\n",
       "      <td>70a - 79a</td>\n",
       "      <td>M</td>\n",
       "      <td>Confirmado</td>\n",
       "      <td>Óbito</td>\n",
       "      <td>2020-07-28</td>\n",
       "      <td>DESCONHECIDO</td>\n",
       "      <td>SUL</td>\n",
       "      <td>PETRÓPOLIS</td>\n",
       "    </tr>\n",
       "    <tr>\n",
       "      <th>102411</th>\n",
       "      <td>91</td>\n",
       "      <td>80a ou +</td>\n",
       "      <td>M</td>\n",
       "      <td>Confirmado</td>\n",
       "      <td>Óbito</td>\n",
       "      <td>2020-07-30</td>\n",
       "      <td>DESCONHECIDO</td>\n",
       "      <td>OESTE</td>\n",
       "      <td>GLÓRIA</td>\n",
       "    </tr>\n",
       "    <tr>\n",
       "      <th>107461</th>\n",
       "      <td>76</td>\n",
       "      <td>70a - 79a</td>\n",
       "      <td>M</td>\n",
       "      <td>Confirmado</td>\n",
       "      <td>Óbito</td>\n",
       "      <td>2020-07-30</td>\n",
       "      <td>TESTE RÁPIDO - ANTICORPO</td>\n",
       "      <td>NORTE</td>\n",
       "      <td>NOVO ALEIXO</td>\n",
       "    </tr>\n",
       "    <tr>\n",
       "      <th>107995</th>\n",
       "      <td>67</td>\n",
       "      <td>60a - 69a</td>\n",
       "      <td>F</td>\n",
       "      <td>Confirmado</td>\n",
       "      <td>Óbito</td>\n",
       "      <td>2020-07-31</td>\n",
       "      <td>TESTE RÁPIDO - ANTICORPO</td>\n",
       "      <td>OESTE</td>\n",
       "      <td>LÍRIO DO VALE</td>\n",
       "    </tr>\n",
       "  </tbody>\n",
       "</table>\n",
       "<p>12667 rows × 9 columns</p>\n",
       "</div>"
      ],
      "text/plain": [
       "        _idade _faixa etária _sexo _classificacao  _conclusao _dt_notificacao  \\\n",
       "107318      44     40a - 49a     F     Confirmado  Recuperado      2020-01-30   \n",
       "77211       44     40a - 49a     M     Confirmado  Recuperado      2020-02-16   \n",
       "99336       12     10a - 14a     F     Confirmado  Recuperado      2020-02-23   \n",
       "89016       43     40a - 49a     F     Confirmado  Recuperado      2020-03-09   \n",
       "108094      46     40a - 49a     F     Confirmado  Recuperado      2020-03-11   \n",
       "...        ...           ...   ...            ...         ...             ...   \n",
       "106766      69     60a - 69a     M     Confirmado       Óbito      2020-07-28   \n",
       "102442      77     70a - 79a     M     Confirmado       Óbito      2020-07-28   \n",
       "102411      91      80a ou +     M     Confirmado       Óbito      2020-07-30   \n",
       "107461      76     70a - 79a     M     Confirmado       Óbito      2020-07-30   \n",
       "107995      67     60a - 69a     F     Confirmado       Óbito      2020-07-31   \n",
       "\n",
       "                     _tipo_teste _distrito   _bairro_mapa  \n",
       "107318   TESTE RÁPIDO - ANTÍGENO       SUL    SÃO GERALDO  \n",
       "77211   TESTE RÁPIDO - ANTICORPO     OESTE    PONTA NEGRA  \n",
       "99336               DESCONHECIDO     LESTE      MAUAZINHO  \n",
       "89016                     RT-PCR     OESTE      DOM PEDRO  \n",
       "108094              DESCONHECIDO     NORTE    CIDADE NOVA  \n",
       "...                          ...       ...            ...  \n",
       "106766              DESCONHECIDO     OESTE       ALVORADA  \n",
       "102442              DESCONHECIDO       SUL     PETRÓPOLIS  \n",
       "102411              DESCONHECIDO     OESTE         GLÓRIA  \n",
       "107461  TESTE RÁPIDO - ANTICORPO     NORTE    NOVO ALEIXO  \n",
       "107995  TESTE RÁPIDO - ANTICORPO     OESTE  LÍRIO DO VALE  \n",
       "\n",
       "[12667 rows x 9 columns]"
      ]
     },
     "execution_count": 15,
     "metadata": {},
     "output_type": "execute_result"
    }
   ],
   "source": [
    "dados_copia = dados_copia[dados_copia._idade <= 100]\n",
    "dados_copia"
   ]
  },
  {
   "cell_type": "markdown",
   "metadata": {},
   "source": [
    "### 1. Quantos exemplos e atributos há na base de dados após a limpeza e organização?"
   ]
  },
  {
   "cell_type": "code",
   "execution_count": 16,
   "metadata": {},
   "outputs": [
    {
     "name": "stdout",
     "output_type": "stream",
     "text": [
      "<class 'pandas.core.frame.DataFrame'>\n",
      "Int64Index: 12667 entries, 107318 to 107995\n",
      "Data columns (total 9 columns):\n",
      " #   Column           Non-Null Count  Dtype         \n",
      "---  ------           --------------  -----         \n",
      " 0   _idade           12667 non-null  int64         \n",
      " 1   _faixa etária    12667 non-null  object        \n",
      " 2   _sexo            12667 non-null  object        \n",
      " 3   _classificacao   12667 non-null  object        \n",
      " 4   _conclusao       12667 non-null  object        \n",
      " 5   _dt_notificacao  12667 non-null  datetime64[ns]\n",
      " 6   _tipo_teste      12667 non-null  object        \n",
      " 7   _distrito        12667 non-null  object        \n",
      " 8   _bairro_mapa     12667 non-null  object        \n",
      "dtypes: datetime64[ns](1), int64(1), object(7)\n",
      "memory usage: 989.6+ KB\n"
     ]
    }
   ],
   "source": [
    "dados_copia.info()"
   ]
  },
  {
   "cell_type": "markdown",
   "metadata": {},
   "source": [
    "### 2. Qual a porcentagem de indivíduos recuperados em relação ao todo?"
   ]
  },
  {
   "cell_type": "code",
   "execution_count": 17,
   "metadata": {},
   "outputs": [
    {
     "data": {
      "text/plain": [
       "83.9346332991237"
      ]
     },
     "execution_count": 17,
     "metadata": {},
     "output_type": "execute_result"
    }
   ],
   "source": [
    "casos_recuperados = dados_copia.query(\"_conclusao == 'Recuperado'\")\n",
    "total_casos = len(dados_copia)\n",
    "total_casos_recuperados = len(casos_recuperados)\n",
    "porcentagem = (total_casos_recuperados / total_casos) * 100\n",
    "\n",
    "porcentagem"
   ]
  },
  {
   "cell_type": "markdown",
   "metadata": {},
   "source": [
    "### 3. Os casos acometeram mais indivíduos do sexo masculino ou feminino?"
   ]
  },
  {
   "cell_type": "code",
   "execution_count": 18,
   "metadata": {},
   "outputs": [
    {
     "data": {
      "text/plain": [
       "_sexo\n",
       "F    6301\n",
       "M    6366\n",
       "dtype: int64"
      ]
     },
     "execution_count": 18,
     "metadata": {},
     "output_type": "execute_result"
    }
   ],
   "source": [
    "dados_copia.groupby(['_sexo']).size()"
   ]
  },
  {
   "cell_type": "markdown",
   "metadata": {},
   "source": [
    "Resposta: Indíviduos do sexo masculino."
   ]
  },
  {
   "cell_type": "markdown",
   "metadata": {},
   "source": [
    "### 4. Qual a média e desvio padrão de idade dos indivíduos que contraíram COVID-19? Qual o indivíduo mais jovem e o mais idoso a contraírem tal enfermidade?"
   ]
  },
  {
   "cell_type": "code",
   "execution_count": 19,
   "metadata": {},
   "outputs": [
    {
     "name": "stdout",
     "output_type": "stream",
     "text": [
      "media: 47.625483539906845\n",
      "desvio pradao: 18.10672279086624\n",
      "maior idade: 99\n",
      "Menor idade: 0\n"
     ]
    }
   ],
   "source": [
    "print(\"media:\", dados_copia[\"_idade\"].mean())\n",
    "\n",
    "print(\"desvio pradao:\", dados_copia[\"_idade\"].std())\n",
    "\n",
    "print(\"maior idade:\", max(dados_copia[\"_idade\"]))\n",
    "\n",
    "print(\"Menor idade:\", min(dados_copia[\"_idade\"]))"
   ]
  },
  {
   "cell_type": "markdown",
   "metadata": {},
   "source": [
    "### 5. Qual o bairro com maior incidência de casos?"
   ]
  },
  {
   "cell_type": "code",
   "execution_count": 20,
   "metadata": {},
   "outputs": [
    {
     "data": {
      "text/html": [
       "<div>\n",
       "<style scoped>\n",
       "    .dataframe tbody tr th:only-of-type {\n",
       "        vertical-align: middle;\n",
       "    }\n",
       "\n",
       "    .dataframe tbody tr th {\n",
       "        vertical-align: top;\n",
       "    }\n",
       "\n",
       "    .dataframe thead th {\n",
       "        text-align: right;\n",
       "    }\n",
       "</style>\n",
       "<table border=\"1\" class=\"dataframe\">\n",
       "  <thead>\n",
       "    <tr style=\"text-align: right;\">\n",
       "      <th></th>\n",
       "      <th>_bairro_mapa</th>\n",
       "      <th>casos</th>\n",
       "    </tr>\n",
       "  </thead>\n",
       "  <tbody>\n",
       "    <tr>\n",
       "      <th>11</th>\n",
       "      <td>CIDADE NOVA</td>\n",
       "      <td>859</td>\n",
       "    </tr>\n",
       "    <tr>\n",
       "      <th>16</th>\n",
       "      <td>COMPENSA</td>\n",
       "      <td>520</td>\n",
       "    </tr>\n",
       "    <tr>\n",
       "      <th>2</th>\n",
       "      <td>ALVORADA</td>\n",
       "      <td>514</td>\n",
       "    </tr>\n",
       "    <tr>\n",
       "      <th>24</th>\n",
       "      <td>FLORES</td>\n",
       "      <td>480</td>\n",
       "    </tr>\n",
       "    <tr>\n",
       "      <th>58</th>\n",
       "      <td>SÃO JOSÉ OPERÁRIO</td>\n",
       "      <td>479</td>\n",
       "    </tr>\n",
       "    <tr>\n",
       "      <th>...</th>\n",
       "      <td>...</td>\n",
       "      <td>...</td>\n",
       "    </tr>\n",
       "    <tr>\n",
       "      <th>21</th>\n",
       "      <td>DISTRITO INDUSTRIAL II</td>\n",
       "      <td>31</td>\n",
       "    </tr>\n",
       "    <tr>\n",
       "      <th>49</th>\n",
       "      <td>RIO NEGRO</td>\n",
       "      <td>17</td>\n",
       "    </tr>\n",
       "    <tr>\n",
       "      <th>6</th>\n",
       "      <td>BR-174</td>\n",
       "      <td>8</td>\n",
       "    </tr>\n",
       "    <tr>\n",
       "      <th>3</th>\n",
       "      <td>AM-010</td>\n",
       "      <td>5</td>\n",
       "    </tr>\n",
       "    <tr>\n",
       "      <th>50</th>\n",
       "      <td>RIO TARUMÃ-MIRIM</td>\n",
       "      <td>4</td>\n",
       "    </tr>\n",
       "  </tbody>\n",
       "</table>\n",
       "<p>67 rows × 2 columns</p>\n",
       "</div>"
      ],
      "text/plain": [
       "              _bairro_mapa  casos\n",
       "11             CIDADE NOVA    859\n",
       "16                COMPENSA    520\n",
       "2                 ALVORADA    514\n",
       "24                  FLORES    480\n",
       "58       SÃO JOSÉ OPERÁRIO    479\n",
       "..                     ...    ...\n",
       "21  DISTRITO INDUSTRIAL II     31\n",
       "49               RIO NEGRO     17\n",
       "6                   BR-174      8\n",
       "3                   AM-010      5\n",
       "50        RIO TARUMÃ-MIRIM      4\n",
       "\n",
       "[67 rows x 2 columns]"
      ]
     },
     "execution_count": 20,
     "metadata": {},
     "output_type": "execute_result"
    }
   ],
   "source": [
    "dados_copia.groupby(['_bairro_mapa']).size().reset_index(name='casos').sort_values(by='casos', ascending=False)"
   ]
  },
  {
   "cell_type": "markdown",
   "metadata": {},
   "source": [
    "### 6. Quais os três bairros com maior incidência de casos recuperados?\n"
   ]
  },
  {
   "cell_type": "code",
   "execution_count": 21,
   "metadata": {},
   "outputs": [
    {
     "data": {
      "text/html": [
       "<div>\n",
       "<style scoped>\n",
       "    .dataframe tbody tr th:only-of-type {\n",
       "        vertical-align: middle;\n",
       "    }\n",
       "\n",
       "    .dataframe tbody tr th {\n",
       "        vertical-align: top;\n",
       "    }\n",
       "\n",
       "    .dataframe thead th {\n",
       "        text-align: right;\n",
       "    }\n",
       "</style>\n",
       "<table border=\"1\" class=\"dataframe\">\n",
       "  <thead>\n",
       "    <tr style=\"text-align: right;\">\n",
       "      <th></th>\n",
       "      <th>_bairro_mapa</th>\n",
       "      <th>casos</th>\n",
       "    </tr>\n",
       "  </thead>\n",
       "  <tbody>\n",
       "    <tr>\n",
       "      <th>11</th>\n",
       "      <td>CIDADE NOVA</td>\n",
       "      <td>720</td>\n",
       "    </tr>\n",
       "    <tr>\n",
       "      <th>24</th>\n",
       "      <td>FLORES</td>\n",
       "      <td>438</td>\n",
       "    </tr>\n",
       "    <tr>\n",
       "      <th>2</th>\n",
       "      <td>ALVORADA</td>\n",
       "      <td>430</td>\n",
       "    </tr>\n",
       "  </tbody>\n",
       "</table>\n",
       "</div>"
      ],
      "text/plain": [
       "   _bairro_mapa  casos\n",
       "11  CIDADE NOVA    720\n",
       "24       FLORES    438\n",
       "2      ALVORADA    430"
      ]
     },
     "execution_count": 21,
     "metadata": {},
     "output_type": "execute_result"
    }
   ],
   "source": [
    "casos_recuperados.groupby(['_bairro_mapa']).size().reset_index(name='casos').sort_values(by='casos', ascending=False).head(3)"
   ]
  },
  {
   "cell_type": "markdown",
   "metadata": {},
   "source": [
    "### 7. Quais os tipos de testes efetuados, segundo os dados? Indique os dados de maneira quantitativa  percentual."
   ]
  },
  {
   "cell_type": "code",
   "execution_count": 22,
   "metadata": {},
   "outputs": [
    {
     "data": {
      "text/html": [
       "<div>\n",
       "<style scoped>\n",
       "    .dataframe tbody tr th:only-of-type {\n",
       "        vertical-align: middle;\n",
       "    }\n",
       "\n",
       "    .dataframe tbody tr th {\n",
       "        vertical-align: top;\n",
       "    }\n",
       "\n",
       "    .dataframe thead th {\n",
       "        text-align: right;\n",
       "    }\n",
       "</style>\n",
       "<table border=\"1\" class=\"dataframe\">\n",
       "  <thead>\n",
       "    <tr style=\"text-align: right;\">\n",
       "      <th></th>\n",
       "      <th>quantitativo</th>\n",
       "      <th>porcentagem</th>\n",
       "    </tr>\n",
       "    <tr>\n",
       "      <th>_tipo_teste</th>\n",
       "      <th></th>\n",
       "      <th></th>\n",
       "    </tr>\n",
       "  </thead>\n",
       "  <tbody>\n",
       "    <tr>\n",
       "      <th>DESCONHECIDO</th>\n",
       "      <td>6453</td>\n",
       "      <td>50.943396</td>\n",
       "    </tr>\n",
       "    <tr>\n",
       "      <th>ECLIA IgG</th>\n",
       "      <td>4</td>\n",
       "      <td>0.031578</td>\n",
       "    </tr>\n",
       "    <tr>\n",
       "      <th>ELISA IgM</th>\n",
       "      <td>6</td>\n",
       "      <td>0.047367</td>\n",
       "    </tr>\n",
       "    <tr>\n",
       "      <th>RT-PCR</th>\n",
       "      <td>1501</td>\n",
       "      <td>11.849688</td>\n",
       "    </tr>\n",
       "    <tr>\n",
       "      <th>TESTE RÁPIDO - ANTICORPO</th>\n",
       "      <td>3602</td>\n",
       "      <td>28.436094</td>\n",
       "    </tr>\n",
       "    <tr>\n",
       "      <th>TESTE RÁPIDO - ANTÍGENO</th>\n",
       "      <td>1101</td>\n",
       "      <td>8.691877</td>\n",
       "    </tr>\n",
       "  </tbody>\n",
       "</table>\n",
       "</div>"
      ],
      "text/plain": [
       "                          quantitativo  porcentagem\n",
       "_tipo_teste                                        \n",
       "DESCONHECIDO                      6453    50.943396\n",
       "ECLIA IgG                            4     0.031578\n",
       "ELISA IgM                            6     0.047367\n",
       "RT-PCR                            1501    11.849688\n",
       "TESTE RÁPIDO - ANTICORPO          3602    28.436094\n",
       "TESTE RÁPIDO - ANTÍGENO           1101     8.691877"
      ]
     },
     "execution_count": 22,
     "metadata": {},
     "output_type": "execute_result"
    }
   ],
   "source": [
    "test = dados_copia.groupby(['_tipo_teste']).size()\n",
    "\n",
    "test = pd.DataFrame([test])\n",
    "test = test.T\n",
    "test.columns = ['quantitativo']\n",
    "\n",
    "total_testes = len(dados_copia)\n",
    "numero_teste = []\n",
    "resultados = []\n",
    "\n",
    "for i in test['quantitativo']:\n",
    "    numero_teste.append(i)\n",
    "\n",
    "for j in numero_teste:\n",
    "    resultados.append((j * 100) / total_testes)\n",
    "    \n",
    "test['porcentagem'] =  resultados\n",
    "\n",
    "test"
   ]
  },
  {
   "cell_type": "markdown",
   "metadata": {},
   "source": [
    "### 8. Qual taxa de letalidade pode ser calculada a partir do conjunto de dados? Para calcular esta taxa, considere a fração do total de óbitos pelo total de casos;\n"
   ]
  },
  {
   "cell_type": "code",
   "execution_count": 23,
   "metadata": {},
   "outputs": [
    {
     "data": {
      "text/plain": [
       "16.065366700876293"
      ]
     },
     "execution_count": 23,
     "metadata": {},
     "output_type": "execute_result"
    }
   ],
   "source": [
    "total_obitos = dados_copia.groupby(['_conclusao']).size()[1]\n",
    "total_casos = len(dados_copia)\n",
    "taxa_letalidade = (total_obitos /total_casos) * 100\n",
    "taxa_letalidade"
   ]
  },
  {
   "cell_type": "markdown",
   "metadata": {},
   "source": [
    "### 9. Qual o tipo de correlação, mediante coeficiente de correlação de Pearson, entre a idade e o número de casos? Para responder a esta pergunte, agrupe o número de casos por idade e efetue o cálculo de tal coeficiente. Indique, a partir do resultado, a natureza desta correlação, se é positiva ou negativa, e qual sua intensidade."
   ]
  },
  {
   "cell_type": "code",
   "execution_count": 24,
   "metadata": {},
   "outputs": [
    {
     "data": {
      "text/plain": [
       "-0.08265358518984832"
      ]
     },
     "execution_count": 24,
     "metadata": {},
     "output_type": "execute_result"
    }
   ],
   "source": [
    "# Logo após, agrupo os casos por idade e vejo a correlação desses dois atributos\n",
    "group_idade_casos = dados_copia.groupby(['_idade']).size().reset_index(name='casos')\n",
    "idade = group_idade_casos['_idade']\n",
    "casos = group_idade_casos['casos']\n",
    "pearsonr(idade, casos)[0]"
   ]
  },
  {
   "cell_type": "markdown",
   "metadata": {},
   "source": [
    "Resposta: Sendo o valor da correlação entre idade e casos -0.08, temos que a correção entre os casos e a idade é despresível [1]."
   ]
  },
  {
   "cell_type": "markdown",
   "metadata": {},
   "source": [
    "### Referências:\n",
    "\n",
    "1. Mukaka, M.M. «Statistics Corner: A guide to appropriate uso of Correlation coefficient in medical research». Malawai Medical Journal. PMC 3576830Acessível livremente. Consultado em 15 de agosto de 2020, as 12:55."
   ]
  }
 ],
 "metadata": {
  "kernelspec": {
   "display_name": "Python 3",
   "language": "python",
   "name": "python3"
  },
  "language_info": {
   "codemirror_mode": {
    "name": "ipython",
    "version": 3
   },
   "file_extension": ".py",
   "mimetype": "text/x-python",
   "name": "python",
   "nbconvert_exporter": "python",
   "pygments_lexer": "ipython3",
   "version": "3.7.6"
  }
 },
 "nbformat": 4,
 "nbformat_minor": 4
}
