{
 "cells": [
  {
   "cell_type": "code",
   "execution_count": 10,
   "metadata": {},
   "outputs": [],
   "source": [
    "import pandas as pd\n",
    "import numpy as np\n",
    "dados = pd.read_csv(\"Manaus.csv\", encoding ='ISO-8859-1', sep = \";\", low_memory = False )\n",
    "#dados.columns\n",
    "# low_memory = False só para tirar o aviso gerado ao ler diferentes dtypes em uma coluna de um arquivo.\n",
    "# mas talvez seja necessário especificar os tipos de dados de \"_srag\" e \"_evolucao\"."
   ]
  },
  {
   "cell_type": "code",
   "execution_count": 2,
   "metadata": {},
   "outputs": [
    {
     "name": "stdout",
     "output_type": "stream",
     "text": [
      "<class 'pandas.core.frame.DataFrame'>\n",
      "RangeIndex: 108351 entries, 0 to 108350\n",
      "Data columns (total 36 columns):\n",
      " #   Column                Non-Null Count   Dtype  \n",
      "---  ------                --------------   -----  \n",
      " 0   _idade                108230 non-null  float64\n",
      " 1   _faixa etária         108351 non-null  object \n",
      " 2   _sexo                 107551 non-null  object \n",
      " 3   _bairro               106223 non-null  object \n",
      " 4   _classificacao        108351 non-null  object \n",
      " 5   _comorb_renal         94992 non-null   object \n",
      " 6   _comorb_diabetes      95646 non-null   object \n",
      " 7   _comorb_imuno         94859 non-null   object \n",
      " 8   _comorb_cardio        95698 non-null   object \n",
      " 9   _conclusao            64812 non-null   object \n",
      " 10  _dt_notificacao       108340 non-null  object \n",
      " 11  _taxa                 102551 non-null  object \n",
      " 12  _dt_evolucao          39685 non-null   object \n",
      " 13  _raca                 83920 non-null   object \n",
      " 14  _dt_sintomas          104710 non-null  object \n",
      " 15  _criterio             8182 non-null    object \n",
      " 16  _tipo_teste           72500 non-null   object \n",
      " 17  _sintoma_garganta     98279 non-null   object \n",
      " 18  _sintoma_dispneia     99064 non-null   object \n",
      " 19  _sintoma_febre        99189 non-null   object \n",
      " 20  _sintoma_tosse        99132 non-null   object \n",
      " 21  _sintoma_outros       99133 non-null   object \n",
      " 22  _etnia                35 non-null      object \n",
      " 23  _profiss_saude        90083 non-null   object \n",
      " 24  _srag                 9016 non-null    object \n",
      " 25  _se_notificacao       108340 non-null  float64\n",
      " 26  _distrito             102551 non-null  object \n",
      " 27  _bairro_mapa          102551 non-null  object \n",
      " 28  _comorb_respiratoria  95003 non-null   object \n",
      " 29  _comorb_cromossomica  94890 non-null   object \n",
      " 30  _comorb_hepatica      3296 non-null    object \n",
      " 31  _comorb_neurologica   3373 non-null    object \n",
      " 32  _comorb_hemato        3341 non-null    object \n",
      " 33  _comorb_obessidade    3250 non-null    object \n",
      " 34  _origem               108351 non-null  object \n",
      " 35  _evolução             12462 non-null   object \n",
      "dtypes: float64(2), object(34)\n",
      "memory usage: 29.8+ MB\n"
     ]
    }
   ],
   "source": [
    "dados.info()"
   ]
  },
  {
   "cell_type": "code",
   "execution_count": 3,
   "metadata": {},
   "outputs": [
    {
     "data": {
      "text/plain": [
       "108351"
      ]
     },
     "execution_count": 3,
     "metadata": {},
     "output_type": "execute_result"
    }
   ],
   "source": [
    "len(dados) "
   ]
  },
  {
   "cell_type": "markdown",
   "metadata": {},
   "source": [
    "### Considerar apenas os casos confirmados, excluindo todos os demais registros distintos."
   ]
  },
  {
   "cell_type": "code",
   "execution_count": 4,
   "metadata": {},
   "outputs": [
    {
     "data": {
      "text/plain": [
       "array(['Confirmado', 'Descartado', 'Em análise'], dtype=object)"
      ]
     },
     "execution_count": 4,
     "metadata": {},
     "output_type": "execute_result"
    }
   ],
   "source": [
    "dados._classificacao.unique()"
   ]
  },
  {
   "cell_type": "markdown",
   "metadata": {},
   "source": [
    "### Selecionando somente casos confirmados"
   ]
  },
  {
   "cell_type": "code",
   "execution_count": 5,
   "metadata": {},
   "outputs": [],
   "source": [
    "casos_confirmados = dados.query(\"_classificacao == 'Confirmado'\")"
   ]
  },
  {
   "cell_type": "markdown",
   "metadata": {},
   "source": [
    "### 1. Quantos atributos descrevem cada exemplo? Quais são eles?"
   ]
  },
  {
   "cell_type": "code",
   "execution_count": 6,
   "metadata": {},
   "outputs": [
    {
     "data": {
      "text/plain": [
       "Index(['_idade', '_faixa etária', '_sexo', '_bairro', '_classificacao',\n",
       "       '_comorb_renal', '_comorb_diabetes', '_comorb_imuno', '_comorb_cardio',\n",
       "       '_conclusao', '_dt_notificacao', '_taxa', '_dt_evolucao', '_raca',\n",
       "       '_dt_sintomas', '_criterio', '_tipo_teste', '_sintoma_garganta',\n",
       "       '_sintoma_dispneia', '_sintoma_febre', '_sintoma_tosse',\n",
       "       '_sintoma_outros', '_etnia', '_profiss_saude', '_srag',\n",
       "       '_se_notificacao', '_distrito', '_bairro_mapa', '_comorb_respiratoria',\n",
       "       '_comorb_cromossomica', '_comorb_hepatica', '_comorb_neurologica',\n",
       "       '_comorb_hemato', '_comorb_obessidade', '_origem', '_evolução'],\n",
       "      dtype='object')"
      ]
     },
     "execution_count": 6,
     "metadata": {},
     "output_type": "execute_result"
    }
   ],
   "source": [
    "casos_confirmados.columns"
   ]
  },
  {
   "cell_type": "markdown",
   "metadata": {},
   "source": [
    "- 36 atributos. "
   ]
  },
  {
   "cell_type": "markdown",
   "metadata": {},
   "source": [
    "### 2. Quantos casos confirmados há em Manaus, cumulativamente?"
   ]
  },
  {
   "cell_type": "code",
   "execution_count": 7,
   "metadata": {},
   "outputs": [
    {
     "data": {
      "text/plain": [
       "36947"
      ]
     },
     "execution_count": 7,
     "metadata": {},
     "output_type": "execute_result"
    }
   ],
   "source": [
    "len(casos_confirmados)"
   ]
  },
  {
   "cell_type": "markdown",
   "metadata": {},
   "source": [
    "### 3. A qual período de tempo a base de dados se refere, isto é, qual o registro mais antigo e qual o mais recente? Leve em conta a data de notificação."
   ]
  },
  {
   "cell_type": "code",
   "execution_count": 8,
   "metadata": {},
   "outputs": [
    {
     "ename": "NameError",
     "evalue": "name 'casos_confirmados_data_frame' is not defined",
     "output_type": "error",
     "traceback": [
      "\u001b[0;31m---------------------------------------------------------------------------\u001b[0m",
      "\u001b[0;31mNameError\u001b[0m                                 Traceback (most recent call last)",
      "\u001b[0;32m<ipython-input-8-7617360ad41a>\u001b[0m in \u001b[0;36m<module>\u001b[0;34m\u001b[0m\n\u001b[1;32m      1\u001b[0m \u001b[0;31m#precisa tratar data\u001b[0m\u001b[0;34m\u001b[0m\u001b[0;34m\u001b[0m\u001b[0;34m\u001b[0m\u001b[0m\n\u001b[1;32m      2\u001b[0m \u001b[0mcasos_confirmados\u001b[0m \u001b[0;34m=\u001b[0m \u001b[0mpd\u001b[0m\u001b[0;34m.\u001b[0m\u001b[0mDataFrame\u001b[0m\u001b[0;34m(\u001b[0m\u001b[0mcasos_confirmados\u001b[0m\u001b[0;34m)\u001b[0m\u001b[0;34m\u001b[0m\u001b[0;34m\u001b[0m\u001b[0m\n\u001b[0;32m----> 3\u001b[0;31m \u001b[0mcasos_confirmados\u001b[0m\u001b[0;34m[\u001b[0m\u001b[0;34m\"_dt_notificacao\"\u001b[0m\u001b[0;34m]\u001b[0m \u001b[0;34m=\u001b[0m \u001b[0mpd\u001b[0m\u001b[0;34m.\u001b[0m\u001b[0mto_datetime\u001b[0m\u001b[0;34m(\u001b[0m\u001b[0mcasos_confirmados_data_frame\u001b[0m\u001b[0;34m[\u001b[0m\u001b[0;34m\"_dt_notificacao\"\u001b[0m\u001b[0;34m]\u001b[0m\u001b[0;34m,\u001b[0m\u001b[0;34m)\u001b[0m\u001b[0;34m\u001b[0m\u001b[0;34m\u001b[0m\u001b[0m\n\u001b[0m\u001b[1;32m      4\u001b[0m \u001b[0mcasos_confirmados\u001b[0m \u001b[0;34m=\u001b[0m \u001b[0mcasos_confirmados_data_frame\u001b[0m\u001b[0;34m.\u001b[0m\u001b[0msort_values\u001b[0m\u001b[0;34m(\u001b[0m\u001b[0mby\u001b[0m\u001b[0;34m=\u001b[0m\u001b[0;34m\"_dt_notificacao\"\u001b[0m\u001b[0;34m)\u001b[0m\u001b[0;34m\u001b[0m\u001b[0;34m\u001b[0m\u001b[0m\n\u001b[1;32m      5\u001b[0m \u001b[0mcasos_confirmados\u001b[0m \u001b[0;34m=\u001b[0m \u001b[0mcasos_confirmados\u001b[0m\u001b[0;34m.\u001b[0m\u001b[0mdropna\u001b[0m\u001b[0;34m(\u001b[0m\u001b[0msubset\u001b[0m\u001b[0;34m=\u001b[0m\u001b[0;34m[\u001b[0m\u001b[0;34m\"_dt_notificacao\"\u001b[0m\u001b[0;34m]\u001b[0m\u001b[0;34m)\u001b[0m\u001b[0;34m\u001b[0m\u001b[0;34m\u001b[0m\u001b[0m\n",
      "\u001b[0;31mNameError\u001b[0m: name 'casos_confirmados_data_frame' is not defined"
     ]
    }
   ],
   "source": [
    "#precisa tratar data\n",
    "casos_confirmados = pd.DataFrame(casos_confirmados)\n",
    "casos_confirmados[\"_dt_notificacao\"] = pd.to_datetime(casos_confirmados_data_frame[\"_dt_notificacao\"],)\n",
    "casos_confirmados = casos_confirmados_data_frame.sort_values(by=\"_dt_notificacao\")\n",
    "casos_confirmados = casos_confirmados.dropna(subset=[\"_dt_notificacao\"])\n",
    "\n",
    "primeiro_caso = casos_confirmados[\"_dt_notificacao\"].head(1)\n",
    "ultimo_caso = casos_confirmados[\"_dt_notificacao\"].tail(1) \n",
    "\n",
    "print(\"Primerio caso\", primeiro_caso)\n",
    "print(\"Ultimo caso\", ultimo_caso)"
   ]
  },
  {
   "cell_type": "markdown",
   "metadata": {},
   "source": [
    "Resposta: Desde 1 de abril até 12 de julho de 2020."
   ]
  },
  {
   "cell_type": "markdown",
   "metadata": {},
   "source": [
    "### Vamos excluir todos os atributos relativos às comorbidades, sintomas, etnia, profissão, outras datas que não a de notificação, origem e outros que não estiverem envolvidos no contexto do trabalho solicitado. Estes atributos serão considerados irrelevantes para fins de simplificação. Exclua todas as linhas em que houver dados faltantes para os atributos remanescentes."
   ]
  },
  {
   "cell_type": "code",
   "execution_count": 14,
   "metadata": {},
   "outputs": [
    {
     "data": {
      "text/plain": [
       "Index(['_idade', '_faixa etária', '_sexo', '_bairro', '_classificacao',\n",
       "       '_conclusao', '_dt_notificacao', '_tipo_teste', '_se_notificacao',\n",
       "       '_distrito', '_bairro_mapa'],\n",
       "      dtype='object')"
      ]
     },
     "execution_count": 14,
     "metadata": {},
     "output_type": "execute_result"
    }
   ],
   "source": [
    "dados_copia = casos_confirmados.drop(columns=['_comorb_renal', '_comorb_diabetes', '_comorb_imuno',\n",
    "                                              '_comorb_cardio', '_comorb_cromossomica', '_comorb_hepatica',\n",
    "                                              '_comorb_neurologica','_comorb_hemato', '_comorb_obessidade',\n",
    "                                              '_etnia', '_sintoma_garganta', '_sintoma_dispneia', '_sintoma_febre',\n",
    "                                              '_sintoma_tosse', '_sintoma_outros', '_dt_evolucao', '_dt_sintomas',\n",
    "                                              '_profiss_saude', '_origem', '_comorb_respiratoria', '_taxa',\n",
    "                                              '_criterio','_raca', '_srag', '_evolução'])\n",
    "dados_copia.columns"
   ]
  },
  {
   "cell_type": "code",
   "execution_count": null,
   "metadata": {},
   "outputs": [],
   "source": [
    "dados_copia.isnull().sum()"
   ]
  },
  {
   "cell_type": "code",
   "execution_count": null,
   "metadata": {},
   "outputs": [],
   "source": [
    "# ver o que é se_notificacao (excluir caso não precise)\n",
    "#dados_copia = dados_copia.sort_values(by=\"_se_notificacao\")\n",
    "#dados_copia._se_notificacao"
   ]
  },
  {
   "cell_type": "markdown",
   "metadata": {},
   "source": [
    "### Alteração dos dados nulos da coluna tipo_teste para desconhecido como forma de evitar perda de dados"
   ]
  },
  {
   "cell_type": "code",
   "execution_count": null,
   "metadata": {},
   "outputs": [],
   "source": [
    "dados_copia.loc[dados_copia['_tipo_teste'].isnull(), ['_tipo_teste']] = 'DESCONHECIDO'"
   ]
  },
  {
   "cell_type": "markdown",
   "metadata": {},
   "source": [
    "### Removendo linhas e colunas nulas"
   ]
  },
  {
   "cell_type": "code",
   "execution_count": 15,
   "metadata": {},
   "outputs": [],
   "source": [
    "#excluindo dados nulos\n",
    "dados_copia = dados_copia.dropna()"
   ]
  },
  {
   "cell_type": "code",
   "execution_count": null,
   "metadata": {},
   "outputs": [],
   "source": [
    "#dados_copia._bairro.unique()\n",
    "#dados_copia.groupby(['_bairro']).size()\n",
    "dados_copia.groupby(['_bairro_mapa']).size()\n",
    "#dados_copia['_bairro_mapa']\n"
   ]
  },
  {
   "cell_type": "markdown",
   "metadata": {},
   "source": [
    "### 1. Quantos exemplos e atributos há na base de dados após a limpeza e organização?"
   ]
  },
  {
   "cell_type": "code",
   "execution_count": null,
   "metadata": {},
   "outputs": [],
   "source": [
    "dados_copia.info()"
   ]
  },
  {
   "cell_type": "markdown",
   "metadata": {},
   "source": [
    "### 2. Qual a porcentagem de indivíduos recuperados em relação ao todo?"
   ]
  },
  {
   "cell_type": "code",
   "execution_count": null,
   "metadata": {},
   "outputs": [],
   "source": [
    "casos_recuperados = dados_copia.query(\"_conclusao == 'Recuperado'\")\n",
    "total_casos = len(dados_copia)\n",
    "total_casos_recuperados = len(casos_recuperados)\n",
    "porcentagem = (total_casos_recuperados / total_casos) * 100\n",
    "\n",
    "porcentagem"
   ]
  },
  {
   "cell_type": "markdown",
   "metadata": {},
   "source": [
    "### 3. Os casos acometeram mais indivíduos do sexo masculino ou feminino?"
   ]
  },
  {
   "cell_type": "code",
   "execution_count": null,
   "metadata": {},
   "outputs": [],
   "source": [
    "dados_copia.groupby(['_sexo']).size()"
   ]
  },
  {
   "cell_type": "markdown",
   "metadata": {},
   "source": [
    "Resposta: Indíviduos do sexo masculino."
   ]
  },
  {
   "cell_type": "markdown",
   "metadata": {},
   "source": [
    "### 4. Qual a média e desvio padrão de idade dos indivíduos que contraíram COVID-19? Qual o indivíduo mais jovem e o mais idoso a contraírem tal enfermidade?"
   ]
  },
  {
   "cell_type": "code",
   "execution_count": null,
   "metadata": {},
   "outputs": [],
   "source": [
    "print(\"media:\", casos_confirmados[\"_idade\"].mean())\n",
    "\n",
    "print(\"desvio pradao:\", casos_confirmados[\"_idade\"].std())\n",
    "\n",
    "print(\"maior idade:\", max(casos_confirmados[\"_idade\"]))\n",
    "\n",
    "print(\"Menor idade:\", min(casos_confirmados[\"_idade\"]))\n"
   ]
  },
  {
   "cell_type": "markdown",
   "metadata": {},
   "source": [
    "### 5. Qual o bairro com maior incidência de casos?"
   ]
  },
  {
   "cell_type": "code",
   "execution_count": null,
   "metadata": {},
   "outputs": [],
   "source": [
    "dados_copia.groupby(['_bairro']).size().reset_index(name='casos').sort_values(by='casos', ascending=False)"
   ]
  },
  {
   "cell_type": "markdown",
   "metadata": {},
   "source": [
    "### 6. Quais os três bairros com maior incidência de casos recuperados?\n"
   ]
  },
  {
   "cell_type": "code",
   "execution_count": null,
   "metadata": {},
   "outputs": [],
   "source": []
  },
  {
   "cell_type": "markdown",
   "metadata": {},
   "source": [
    "### 7. Quais os tipos de testes efetuados, segundo os dados? Indique os dados de maneira quantitativa  percentual."
   ]
  },
  {
   "cell_type": "code",
   "execution_count": 57,
   "metadata": {},
   "outputs": [
    {
     "data": {
      "text/html": [
       "<div>\n",
       "<style scoped>\n",
       "    .dataframe tbody tr th:only-of-type {\n",
       "        vertical-align: middle;\n",
       "    }\n",
       "\n",
       "    .dataframe tbody tr th {\n",
       "        vertical-align: top;\n",
       "    }\n",
       "\n",
       "    .dataframe thead th {\n",
       "        text-align: right;\n",
       "    }\n",
       "</style>\n",
       "<table border=\"1\" class=\"dataframe\">\n",
       "  <thead>\n",
       "    <tr style=\"text-align: right;\">\n",
       "      <th></th>\n",
       "      <th>quantitativo</th>\n",
       "      <th>porcentagem</th>\n",
       "    </tr>\n",
       "    <tr>\n",
       "      <th>_tipo_teste</th>\n",
       "      <th></th>\n",
       "      <th></th>\n",
       "    </tr>\n",
       "  </thead>\n",
       "  <tbody>\n",
       "    <tr>\n",
       "      <th>ECLIA IgG</th>\n",
       "      <td>4</td>\n",
       "      <td>0.064371</td>\n",
       "    </tr>\n",
       "    <tr>\n",
       "      <th>ELISA IgM</th>\n",
       "      <td>6</td>\n",
       "      <td>0.096556</td>\n",
       "    </tr>\n",
       "    <tr>\n",
       "      <th>RT-PCR</th>\n",
       "      <td>1501</td>\n",
       "      <td>24.155134</td>\n",
       "    </tr>\n",
       "    <tr>\n",
       "      <th>TESTE RÁPIDO - ANTICORPO</th>\n",
       "      <td>3602</td>\n",
       "      <td>57.965883</td>\n",
       "    </tr>\n",
       "    <tr>\n",
       "      <th>TESTE RÁPIDO - ANTÍGENO</th>\n",
       "      <td>1101</td>\n",
       "      <td>17.718056</td>\n",
       "    </tr>\n",
       "  </tbody>\n",
       "</table>\n",
       "</div>"
      ],
      "text/plain": [
       "                          quantitativo  porcentagem\n",
       "_tipo_teste                                        \n",
       "ECLIA IgG                            4     0.064371\n",
       "ELISA IgM                            6     0.096556\n",
       "RT-PCR                            1501    24.155134\n",
       "TESTE RÁPIDO - ANTICORPO          3602    57.965883\n",
       "TESTE RÁPIDO - ANTÍGENO           1101    17.718056"
      ]
     },
     "execution_count": 57,
     "metadata": {},
     "output_type": "execute_result"
    }
   ],
   "source": [
    "test = dados_copia.groupby(['_tipo_teste']).size()\n",
    "\n",
    "test = pd.DataFrame([test])\n",
    "test = test.T\n",
    "test.columns = ['quantitativo']\n",
    "\n",
    "total_testes = 0\n",
    "numero_teste = []\n",
    "resultados = []\n",
    "\n",
    "for i in test['quantitativo']:    \n",
    "    total_testes += i\n",
    "    numero_teste.append(i)\n",
    "\n",
    "for j in numero_teste:\n",
    "    resultados.append((j * 100) / total_testes)\n",
    "\n",
    "\n",
    "test['porcentagem'] =  resultados\n",
    "\n",
    "\n",
    "\n",
    "test\n",
    "\n",
    "\n",
    "\n",
    "\n",
    "\n"
   ]
  },
  {
   "cell_type": "markdown",
   "metadata": {},
   "source": [
    "### 8. Qual taxa de letalidade pode ser calculada a partir do conjunto de dados? Para calcular esta taxa, considere a fração do total de óbitos pelo total de casos;\n"
   ]
  },
  {
   "cell_type": "code",
   "execution_count": null,
   "metadata": {},
   "outputs": [],
   "source": []
  },
  {
   "cell_type": "markdown",
   "metadata": {},
   "source": [
    "### 9. Qual o tipo de correlação, mediante coeficiente de correlação de Pearson, entre a idade e o número de casos? Para responder a esta pergunte, agrupe o número de casos por idade e efetue o cálculo de tal coeficiente. Indique, a partir do resultado, a natureza desta correlação, se é positiva ou negativa, e qual sua intensidade."
   ]
  },
  {
   "cell_type": "code",
   "execution_count": null,
   "metadata": {},
   "outputs": [],
   "source": []
  }
 ],
 "metadata": {
  "kernelspec": {
   "display_name": "Python 3",
   "language": "python",
   "name": "python3"
  },
  "language_info": {
   "codemirror_mode": {
    "name": "ipython",
    "version": 3
   },
   "file_extension": ".py",
   "mimetype": "text/x-python",
   "name": "python",
   "nbconvert_exporter": "python",
   "pygments_lexer": "ipython3",
   "version": "3.8.3"
  }
 },
 "nbformat": 4,
 "nbformat_minor": 4
}
