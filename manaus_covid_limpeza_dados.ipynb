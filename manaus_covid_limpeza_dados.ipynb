{
 "cells": [
  {
   "cell_type": "code",
   "execution_count": 27,
   "metadata": {},
   "outputs": [],
   "source": [
    "import pandas as pd\n",
    "dados = pd.read_csv(\"Manaus.csv\", encoding ='ISO-8859-1', sep = \";\", low_memory = False )\n",
    "#dados.columns\n",
    "# low_memory = False só para tirar o aviso gerado ao ler diferentes dtypes em uma coluna de um arquivo.\n",
    "# mas talvez seja necessário especificar os tipos de dados de \"_srag\" e \"_evolucao\"."
   ]
  },
  {
   "cell_type": "code",
   "execution_count": 25,
   "metadata": {},
   "outputs": [
    {
     "name": "stdout",
     "output_type": "stream",
     "text": [
      "<class 'pandas.core.frame.DataFrame'>\n",
      "RangeIndex: 108351 entries, 0 to 108350\n",
      "Data columns (total 36 columns):\n",
      " #   Column                Non-Null Count   Dtype  \n",
      "---  ------                --------------   -----  \n",
      " 0   _idade                108230 non-null  float64\n",
      " 1   _faixa etária         108351 non-null  object \n",
      " 2   _sexo                 107551 non-null  object \n",
      " 3   _bairro               106223 non-null  object \n",
      " 4   _classificacao        108351 non-null  object \n",
      " 5   _comorb_renal         94992 non-null   object \n",
      " 6   _comorb_diabetes      95646 non-null   object \n",
      " 7   _comorb_imuno         94859 non-null   object \n",
      " 8   _comorb_cardio        95698 non-null   object \n",
      " 9   _conclusao            64812 non-null   object \n",
      " 10  _dt_notificacao       108340 non-null  object \n",
      " 11  _taxa                 102551 non-null  object \n",
      " 12  _dt_evolucao          39685 non-null   object \n",
      " 13  _raca                 83920 non-null   object \n",
      " 14  _dt_sintomas          104710 non-null  object \n",
      " 15  _criterio             8182 non-null    object \n",
      " 16  _tipo_teste           72500 non-null   object \n",
      " 17  _sintoma_garganta     98279 non-null   object \n",
      " 18  _sintoma_dispneia     99064 non-null   object \n",
      " 19  _sintoma_febre        99189 non-null   object \n",
      " 20  _sintoma_tosse        99132 non-null   object \n",
      " 21  _sintoma_outros       99133 non-null   object \n",
      " 22  _etnia                35 non-null      object \n",
      " 23  _profiss_saude        90083 non-null   object \n",
      " 24  _srag                 9016 non-null    object \n",
      " 25  _se_notificacao       108340 non-null  float64\n",
      " 26  _distrito             102551 non-null  object \n",
      " 27  _bairro_mapa          102551 non-null  object \n",
      " 28  _comorb_respiratoria  95003 non-null   object \n",
      " 29  _comorb_cromossomica  94890 non-null   object \n",
      " 30  _comorb_hepatica      3296 non-null    object \n",
      " 31  _comorb_neurologica   3373 non-null    object \n",
      " 32  _comorb_hemato        3341 non-null    object \n",
      " 33  _comorb_obessidade    3250 non-null    object \n",
      " 34  _origem               108351 non-null  object \n",
      " 35  _evolução             12462 non-null   object \n",
      "dtypes: float64(2), object(34)\n",
      "memory usage: 29.8+ MB\n"
     ]
    }
   ],
   "source": [
    "dados.info()"
   ]
  },
  {
   "cell_type": "code",
   "execution_count": 3,
   "metadata": {},
   "outputs": [
    {
     "data": {
      "text/html": [
       "<div>\n",
       "<style scoped>\n",
       "    .dataframe tbody tr th:only-of-type {\n",
       "        vertical-align: middle;\n",
       "    }\n",
       "\n",
       "    .dataframe tbody tr th {\n",
       "        vertical-align: top;\n",
       "    }\n",
       "\n",
       "    .dataframe thead th {\n",
       "        text-align: right;\n",
       "    }\n",
       "</style>\n",
       "<table border=\"1\" class=\"dataframe\">\n",
       "  <thead>\n",
       "    <tr style=\"text-align: right;\">\n",
       "      <th></th>\n",
       "      <th>_idade</th>\n",
       "      <th>_faixa etária</th>\n",
       "      <th>_sexo</th>\n",
       "      <th>_bairro</th>\n",
       "      <th>_classificacao</th>\n",
       "      <th>_comorb_renal</th>\n",
       "      <th>_comorb_diabetes</th>\n",
       "      <th>_comorb_imuno</th>\n",
       "      <th>_comorb_cardio</th>\n",
       "      <th>_conclusao</th>\n",
       "      <th>...</th>\n",
       "      <th>_distrito</th>\n",
       "      <th>_bairro_mapa</th>\n",
       "      <th>_comorb_respiratoria</th>\n",
       "      <th>_comorb_cromossomica</th>\n",
       "      <th>_comorb_hepatica</th>\n",
       "      <th>_comorb_neurologica</th>\n",
       "      <th>_comorb_hemato</th>\n",
       "      <th>_comorb_obessidade</th>\n",
       "      <th>_origem</th>\n",
       "      <th>_evolução</th>\n",
       "    </tr>\n",
       "  </thead>\n",
       "  <tbody>\n",
       "    <tr>\n",
       "      <th>0</th>\n",
       "      <td>37.0</td>\n",
       "      <td>30a - 39a</td>\n",
       "      <td>F</td>\n",
       "      <td>CONJ. CIDADAO 10</td>\n",
       "      <td>Confirmado</td>\n",
       "      <td>Não</td>\n",
       "      <td>Não</td>\n",
       "      <td>Não</td>\n",
       "      <td>Não</td>\n",
       "      <td>NaN</td>\n",
       "      <td>...</td>\n",
       "      <td>OESTE</td>\n",
       "      <td>TARUMÃ</td>\n",
       "      <td>Não</td>\n",
       "      <td>Não</td>\n",
       "      <td>NaN</td>\n",
       "      <td>NaN</td>\n",
       "      <td>NaN</td>\n",
       "      <td>NaN</td>\n",
       "      <td>eSUS VE,</td>\n",
       "      <td>NaN</td>\n",
       "    </tr>\n",
       "    <tr>\n",
       "      <th>1</th>\n",
       "      <td>46.0</td>\n",
       "      <td>40a - 49a</td>\n",
       "      <td>F</td>\n",
       "      <td>MORADA DO SOL</td>\n",
       "      <td>Descartado</td>\n",
       "      <td>Não</td>\n",
       "      <td>Não</td>\n",
       "      <td>Não</td>\n",
       "      <td>Não</td>\n",
       "      <td>Recuperado</td>\n",
       "      <td>...</td>\n",
       "      <td>SUL</td>\n",
       "      <td>ALEIXO</td>\n",
       "      <td>Não</td>\n",
       "      <td>Não</td>\n",
       "      <td>NaN</td>\n",
       "      <td>NaN</td>\n",
       "      <td>NaN</td>\n",
       "      <td>NaN</td>\n",
       "      <td>eSUS VE,</td>\n",
       "      <td>NaN</td>\n",
       "    </tr>\n",
       "    <tr>\n",
       "      <th>2</th>\n",
       "      <td>51.0</td>\n",
       "      <td>50a - 59a</td>\n",
       "      <td>F</td>\n",
       "      <td>NaN</td>\n",
       "      <td>Confirmado</td>\n",
       "      <td>Não</td>\n",
       "      <td>Não</td>\n",
       "      <td>Não</td>\n",
       "      <td>Não</td>\n",
       "      <td>NaN</td>\n",
       "      <td>...</td>\n",
       "      <td>NaN</td>\n",
       "      <td>NaN</td>\n",
       "      <td>Não</td>\n",
       "      <td>Não</td>\n",
       "      <td>NaN</td>\n",
       "      <td>NaN</td>\n",
       "      <td>NaN</td>\n",
       "      <td>NaN</td>\n",
       "      <td>eSUS VE,</td>\n",
       "      <td>NaN</td>\n",
       "    </tr>\n",
       "    <tr>\n",
       "      <th>3</th>\n",
       "      <td>74.0</td>\n",
       "      <td>70a - 79a</td>\n",
       "      <td>M</td>\n",
       "      <td>NaN</td>\n",
       "      <td>Confirmado</td>\n",
       "      <td>Não</td>\n",
       "      <td>Não</td>\n",
       "      <td>Não</td>\n",
       "      <td>Não</td>\n",
       "      <td>NaN</td>\n",
       "      <td>...</td>\n",
       "      <td>NaN</td>\n",
       "      <td>NaN</td>\n",
       "      <td>Não</td>\n",
       "      <td>Não</td>\n",
       "      <td>NaN</td>\n",
       "      <td>NaN</td>\n",
       "      <td>NaN</td>\n",
       "      <td>NaN</td>\n",
       "      <td>eSUS VE,</td>\n",
       "      <td>NaN</td>\n",
       "    </tr>\n",
       "    <tr>\n",
       "      <th>4</th>\n",
       "      <td>51.0</td>\n",
       "      <td>50a - 59a</td>\n",
       "      <td>F</td>\n",
       "      <td>ALEIXO</td>\n",
       "      <td>Confirmado</td>\n",
       "      <td>Não</td>\n",
       "      <td>Não</td>\n",
       "      <td>Não</td>\n",
       "      <td>Não</td>\n",
       "      <td>NaN</td>\n",
       "      <td>...</td>\n",
       "      <td>SUL</td>\n",
       "      <td>ALEIXO</td>\n",
       "      <td>Não</td>\n",
       "      <td>Não</td>\n",
       "      <td>NaN</td>\n",
       "      <td>NaN</td>\n",
       "      <td>NaN</td>\n",
       "      <td>NaN</td>\n",
       "      <td>eSUS VE,</td>\n",
       "      <td>NaN</td>\n",
       "    </tr>\n",
       "  </tbody>\n",
       "</table>\n",
       "<p>5 rows × 36 columns</p>\n",
       "</div>"
      ],
      "text/plain": [
       "   _idade _faixa etária _sexo           _bairro _classificacao _comorb_renal  \\\n",
       "0    37.0     30a - 39a     F  CONJ. CIDADAO 10     Confirmado           Não   \n",
       "1    46.0     40a - 49a     F     MORADA DO SOL     Descartado           Não   \n",
       "2    51.0     50a - 59a     F               NaN     Confirmado           Não   \n",
       "3    74.0     70a - 79a     M               NaN     Confirmado           Não   \n",
       "4    51.0     50a - 59a     F            ALEIXO     Confirmado           Não   \n",
       "\n",
       "  _comorb_diabetes _comorb_imuno _comorb_cardio  _conclusao  ... _distrito  \\\n",
       "0              Não           Não            Não         NaN  ...     OESTE   \n",
       "1              Não           Não            Não  Recuperado  ...       SUL   \n",
       "2              Não           Não            Não         NaN  ...       NaN   \n",
       "3              Não           Não            Não         NaN  ...       NaN   \n",
       "4              Não           Não            Não         NaN  ...       SUL   \n",
       "\n",
       "  _bairro_mapa _comorb_respiratoria _comorb_cromossomica _comorb_hepatica  \\\n",
       "0       TARUMÃ                  Não                  Não              NaN   \n",
       "1       ALEIXO                  Não                  Não              NaN   \n",
       "2          NaN                  Não                  Não              NaN   \n",
       "3          NaN                  Não                  Não              NaN   \n",
       "4       ALEIXO                  Não                  Não              NaN   \n",
       "\n",
       "  _comorb_neurologica _comorb_hemato _comorb_obessidade    _origem _evolução  \n",
       "0                 NaN            NaN                NaN  eSUS VE,        NaN  \n",
       "1                 NaN            NaN                NaN  eSUS VE,        NaN  \n",
       "2                 NaN            NaN                NaN  eSUS VE,        NaN  \n",
       "3                 NaN            NaN                NaN  eSUS VE,        NaN  \n",
       "4                 NaN            NaN                NaN  eSUS VE,        NaN  \n",
       "\n",
       "[5 rows x 36 columns]"
      ]
     },
     "execution_count": 3,
     "metadata": {},
     "output_type": "execute_result"
    }
   ],
   "source": [
    "dados.head()"
   ]
  },
  {
   "cell_type": "code",
   "execution_count": 4,
   "metadata": {},
   "outputs": [
    {
     "data": {
      "text/plain": [
       "108351"
      ]
     },
     "execution_count": 4,
     "metadata": {},
     "output_type": "execute_result"
    }
   ],
   "source": [
    "len(dados) "
   ]
  },
  {
   "cell_type": "markdown",
   "metadata": {},
   "source": [
    "Considerar apenas os casos confirmados, excluindo todos os demais registros distintos."
   ]
  },
  {
   "cell_type": "code",
   "execution_count": 5,
   "metadata": {},
   "outputs": [
    {
     "data": {
      "text/plain": [
       "array(['Confirmado', 'Descartado', 'Em análise'], dtype=object)"
      ]
     },
     "execution_count": 5,
     "metadata": {},
     "output_type": "execute_result"
    }
   ],
   "source": [
    "dados._classificacao.unique()"
   ]
  },
  {
   "cell_type": "code",
   "execution_count": 6,
   "metadata": {},
   "outputs": [],
   "source": [
    "#selecionando apenas os casos confirmados\n",
    "casos_confirmados = dados.query(\"_classificacao == 'Confirmado'\")"
   ]
  },
  {
   "cell_type": "markdown",
   "metadata": {},
   "source": [
    "Quantos atributos descrevem cada exemplo? Quais são eles?\n",
    "36 atributos"
   ]
  },
  {
   "cell_type": "code",
   "execution_count": 7,
   "metadata": {},
   "outputs": [
    {
     "data": {
      "text/plain": [
       "Index(['_idade', '_faixa etária', '_sexo', '_bairro', '_classificacao',\n",
       "       '_comorb_renal', '_comorb_diabetes', '_comorb_imuno', '_comorb_cardio',\n",
       "       '_conclusao', '_dt_notificacao', '_taxa', '_dt_evolucao', '_raca',\n",
       "       '_dt_sintomas', '_criterio', '_tipo_teste', '_sintoma_garganta',\n",
       "       '_sintoma_dispneia', '_sintoma_febre', '_sintoma_tosse',\n",
       "       '_sintoma_outros', '_etnia', '_profiss_saude', '_srag',\n",
       "       '_se_notificacao', '_distrito', '_bairro_mapa', '_comorb_respiratoria',\n",
       "       '_comorb_cromossomica', '_comorb_hepatica', '_comorb_neurologica',\n",
       "       '_comorb_hemato', '_comorb_obessidade', '_origem', '_evolução'],\n",
       "      dtype='object')"
      ]
     },
     "execution_count": 7,
     "metadata": {},
     "output_type": "execute_result"
    }
   ],
   "source": [
    "casos_confirmados.columns"
   ]
  },
  {
   "cell_type": "markdown",
   "metadata": {},
   "source": [
    "Quantos casos confirmados há em Manaus, cumulativamente?"
   ]
  },
  {
   "cell_type": "code",
   "execution_count": 8,
   "metadata": {},
   "outputs": [
    {
     "data": {
      "text/plain": [
       "36947"
      ]
     },
     "execution_count": 8,
     "metadata": {},
     "output_type": "execute_result"
    }
   ],
   "source": [
    "len(casos_confirmados)"
   ]
  },
  {
   "cell_type": "markdown",
   "metadata": {},
   "source": [
    "A qual período de tempo a base de dados se refere, isto é, qual o registro mais antigo e qual o\n",
    "mais recente? Leve em conta a data de notificação."
   ]
  },
  {
   "cell_type": "code",
   "execution_count": 9,
   "metadata": {},
   "outputs": [
    {
     "data": {
      "text/plain": [
       "0         04/05/2020\n",
       "2         04/05/2020\n",
       "3         04/05/2020\n",
       "4         04/05/2020\n",
       "5         04/05/2020\n",
       "             ...    \n",
       "108345    21/07/2020\n",
       "108346    01/06/2020\n",
       "108347    25/05/2020\n",
       "108348    04/05/2020\n",
       "108349    05/06/2020\n",
       "Name: _dt_notificacao, Length: 36947, dtype: object"
      ]
     },
     "execution_count": 9,
     "metadata": {},
     "output_type": "execute_result"
    }
   ],
   "source": [
    "#precisa tratar data\n",
    "casos_confirmados['_dt_notificacao']"
   ]
  },
  {
   "cell_type": "markdown",
   "metadata": {},
   "source": [
    "Vamos excluir todos os atributos relativos às comorbidades, sintomas, etnia, profissão, outras datas que não a de notificação, origem e outros que não estiverem envolvidos no contexto do trabalho solicitado. Estes atributos serão considerados irrelevantes para fins de simplificação. Exclua todas as linhas em que houver dados faltantes para os atributos remanescentes."
   ]
  },
  {
   "cell_type": "code",
   "execution_count": 20,
   "metadata": {},
   "outputs": [
    {
     "data": {
      "text/plain": [
       "Index(['_idade', '_faixa etária', '_sexo', '_bairro', '_classificacao',\n",
       "       '_conclusao', '_dt_notificacao', '_tipo_teste', '_srag',\n",
       "       '_se_notificacao', '_distrito', '_bairro_mapa', '_evolução'],\n",
       "      dtype='object')"
      ]
     },
     "execution_count": 20,
     "metadata": {},
     "output_type": "execute_result"
    }
   ],
   "source": [
    "dados_copia = casos_confirmados.drop(columns=['_comorb_renal', '_comorb_diabetes', '_comorb_imuno',\n",
    "                                              '_comorb_cardio', '_comorb_cromossomica', '_comorb_hepatica',\n",
    "                                              '_comorb_neurologica','_comorb_hemato', '_comorb_obessidade',\n",
    "                                              '_etnia', '_sintoma_garganta', '_sintoma_dispneia', '_sintoma_febre',\n",
    "                                              '_sintoma_tosse', '_sintoma_outros', '_dt_evolucao', '_dt_sintomas',\n",
    "                                              '_profiss_saude', '_origem', '_comorb_respiratoria', '_taxa',\n",
    "                                              '_criterio','_raca'])\n",
    "dados_copia.columns"
   ]
  },
  {
   "cell_type": "code",
   "execution_count": null,
   "metadata": {},
   "outputs": [],
   "source": [
    "#analisar se precisa dos atributos \"_se_notificacao\" \"evolucao\""
   ]
  },
  {
   "cell_type": "code",
   "execution_count": 21,
   "metadata": {},
   "outputs": [
    {
     "data": {
      "text/plain": [
       "_idade                57\n",
       "_faixa etária          0\n",
       "_sexo                162\n",
       "_bairro              582\n",
       "_classificacao         0\n",
       "_conclusao         23567\n",
       "_dt_notificacao        4\n",
       "_tipo_teste         8103\n",
       "_srag              31696\n",
       "_se_notificacao        4\n",
       "_distrito           1795\n",
       "_bairro_mapa        1795\n",
       "_evolução          31501\n",
       "dtype: int64"
      ]
     },
     "execution_count": 21,
     "metadata": {},
     "output_type": "execute_result"
    }
   ],
   "source": [
    "dados_copia.isnull().sum()"
   ]
  },
  {
   "cell_type": "code",
   "execution_count": 22,
   "metadata": {},
   "outputs": [
    {
     "data": {
      "text/html": [
       "<div>\n",
       "<style scoped>\n",
       "    .dataframe tbody tr th:only-of-type {\n",
       "        vertical-align: middle;\n",
       "    }\n",
       "\n",
       "    .dataframe tbody tr th {\n",
       "        vertical-align: top;\n",
       "    }\n",
       "\n",
       "    .dataframe thead th {\n",
       "        text-align: right;\n",
       "    }\n",
       "</style>\n",
       "<table border=\"1\" class=\"dataframe\">\n",
       "  <thead>\n",
       "    <tr style=\"text-align: right;\">\n",
       "      <th></th>\n",
       "      <th>_idade</th>\n",
       "      <th>_faixa etária</th>\n",
       "      <th>_sexo</th>\n",
       "      <th>_bairro</th>\n",
       "      <th>_classificacao</th>\n",
       "      <th>_conclusao</th>\n",
       "      <th>_dt_notificacao</th>\n",
       "      <th>_tipo_teste</th>\n",
       "      <th>_srag</th>\n",
       "      <th>_se_notificacao</th>\n",
       "      <th>_distrito</th>\n",
       "      <th>_bairro_mapa</th>\n",
       "      <th>_evolução</th>\n",
       "    </tr>\n",
       "  </thead>\n",
       "  <tbody>\n",
       "    <tr>\n",
       "      <th>0</th>\n",
       "      <td>37.0</td>\n",
       "      <td>30a - 39a</td>\n",
       "      <td>F</td>\n",
       "      <td>CONJ. CIDADAO 10</td>\n",
       "      <td>Confirmado</td>\n",
       "      <td>NaN</td>\n",
       "      <td>04/05/2020</td>\n",
       "      <td>TESTE RÁPIDO - ANTÍGENO</td>\n",
       "      <td>NaN</td>\n",
       "      <td>19.0</td>\n",
       "      <td>OESTE</td>\n",
       "      <td>TARUMÃ</td>\n",
       "      <td>NaN</td>\n",
       "    </tr>\n",
       "    <tr>\n",
       "      <th>2</th>\n",
       "      <td>51.0</td>\n",
       "      <td>50a - 59a</td>\n",
       "      <td>F</td>\n",
       "      <td>NaN</td>\n",
       "      <td>Confirmado</td>\n",
       "      <td>NaN</td>\n",
       "      <td>04/05/2020</td>\n",
       "      <td>TESTE RÁPIDO - ANTICORPO</td>\n",
       "      <td>NaN</td>\n",
       "      <td>19.0</td>\n",
       "      <td>NaN</td>\n",
       "      <td>NaN</td>\n",
       "      <td>NaN</td>\n",
       "    </tr>\n",
       "    <tr>\n",
       "      <th>3</th>\n",
       "      <td>74.0</td>\n",
       "      <td>70a - 79a</td>\n",
       "      <td>M</td>\n",
       "      <td>NaN</td>\n",
       "      <td>Confirmado</td>\n",
       "      <td>NaN</td>\n",
       "      <td>04/05/2020</td>\n",
       "      <td>TESTE RÁPIDO - ANTICORPO</td>\n",
       "      <td>NaN</td>\n",
       "      <td>19.0</td>\n",
       "      <td>NaN</td>\n",
       "      <td>NaN</td>\n",
       "      <td>NaN</td>\n",
       "    </tr>\n",
       "    <tr>\n",
       "      <th>4</th>\n",
       "      <td>51.0</td>\n",
       "      <td>50a - 59a</td>\n",
       "      <td>F</td>\n",
       "      <td>ALEIXO</td>\n",
       "      <td>Confirmado</td>\n",
       "      <td>NaN</td>\n",
       "      <td>04/05/2020</td>\n",
       "      <td>TESTE RÁPIDO - ANTICORPO</td>\n",
       "      <td>NaN</td>\n",
       "      <td>19.0</td>\n",
       "      <td>SUL</td>\n",
       "      <td>ALEIXO</td>\n",
       "      <td>NaN</td>\n",
       "    </tr>\n",
       "    <tr>\n",
       "      <th>5</th>\n",
       "      <td>53.0</td>\n",
       "      <td>50a - 59a</td>\n",
       "      <td>M</td>\n",
       "      <td>PARQUE10</td>\n",
       "      <td>Confirmado</td>\n",
       "      <td>NaN</td>\n",
       "      <td>04/05/2020</td>\n",
       "      <td>TESTE RÁPIDO - ANTICORPO</td>\n",
       "      <td>NaN</td>\n",
       "      <td>19.0</td>\n",
       "      <td>SUL</td>\n",
       "      <td>PARQUE 10 DE NOVEMBRO</td>\n",
       "      <td>NaN</td>\n",
       "    </tr>\n",
       "  </tbody>\n",
       "</table>\n",
       "</div>"
      ],
      "text/plain": [
       "   _idade _faixa etária _sexo           _bairro _classificacao _conclusao  \\\n",
       "0    37.0     30a - 39a     F  CONJ. CIDADAO 10     Confirmado        NaN   \n",
       "2    51.0     50a - 59a     F               NaN     Confirmado        NaN   \n",
       "3    74.0     70a - 79a     M               NaN     Confirmado        NaN   \n",
       "4    51.0     50a - 59a     F            ALEIXO     Confirmado        NaN   \n",
       "5    53.0     50a - 59a     M          PARQUE10     Confirmado        NaN   \n",
       "\n",
       "  _dt_notificacao               _tipo_teste _srag  _se_notificacao _distrito  \\\n",
       "0      04/05/2020   TESTE RÁPIDO - ANTÍGENO   NaN             19.0     OESTE   \n",
       "2      04/05/2020  TESTE RÁPIDO - ANTICORPO   NaN             19.0       NaN   \n",
       "3      04/05/2020  TESTE RÁPIDO - ANTICORPO   NaN             19.0       NaN   \n",
       "4      04/05/2020  TESTE RÁPIDO - ANTICORPO   NaN             19.0       SUL   \n",
       "5      04/05/2020  TESTE RÁPIDO - ANTICORPO   NaN             19.0       SUL   \n",
       "\n",
       "            _bairro_mapa _evolução  \n",
       "0                 TARUMÃ       NaN  \n",
       "2                    NaN       NaN  \n",
       "3                    NaN       NaN  \n",
       "4                 ALEIXO       NaN  \n",
       "5  PARQUE 10 DE NOVEMBRO       NaN  "
      ]
     },
     "execution_count": 22,
     "metadata": {},
     "output_type": "execute_result"
    }
   ],
   "source": [
    "dados_copia.head()"
   ]
  },
  {
   "cell_type": "code",
   "execution_count": null,
   "metadata": {},
   "outputs": [],
   "source": [
    "#excluindo dados nulos\n",
    "#dados_copia.dropna()"
   ]
  },
  {
   "cell_type": "markdown",
   "metadata": {},
   "source": [
    "1. Quantos exemplos e atributos há na base de dados após a limpeza e organização?"
   ]
  },
  {
   "cell_type": "code",
   "execution_count": null,
   "metadata": {},
   "outputs": [],
   "source": []
  },
  {
   "cell_type": "code",
   "execution_count": 28,
   "metadata": {},
   "outputs": [],
   "source": []
  }
 ],
 "metadata": {
  "kernelspec": {
   "display_name": "Python 3",
   "language": "python",
   "name": "python3"
  },
  "language_info": {
   "codemirror_mode": {
    "name": "ipython",
    "version": 3
   },
   "file_extension": ".py",
   "mimetype": "text/x-python",
   "name": "python",
   "nbconvert_exporter": "python",
   "pygments_lexer": "ipython3",
   "version": "3.7.6"
  }
 },
 "nbformat": 4,
 "nbformat_minor": 4
}
